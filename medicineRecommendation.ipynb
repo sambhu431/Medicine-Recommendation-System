{
 "cells": [
  {
   "cell_type": "markdown",
   "metadata": {},
   "source": [
    "## MEDICINE RECOMMENDATION SYSTEM"
   ]
  },
  {
   "cell_type": "markdown",
   "metadata": {},
   "source": [
    "### Problem Statement"
   ]
  },
  {
   "cell_type": "markdown",
   "metadata": {},
   "source": [
    "##### With the rapid advancement of technology and the increasing complexity of healthcare needs, the ability to provide personalized medicine recommendations has become crucial. Traditional methods of prescribing medicine rely heavily on the expertise and experience of healthcare professionals, which can sometimes lead to suboptimal or delayed decisions. A data-driven approach to recommending medicines can enhance the precision and efficiency of the treatment process, leading to better patient outcomes."
   ]
  },
  {
   "cell_type": "markdown",
   "metadata": {},
   "source": [
    "### Understanding Dataset"
   ]
  },
  {
   "cell_type": "markdown",
   "metadata": {},
   "source": [
    "##### The Dataset is consisting of the following 9 columns \n",
    "\n",
    "- Medicine Name : The specific name of the medication.\n",
    "- Composition : The active ingredients and their quantities in the medicine.\n",
    "- Uses : Conditions or diseases the medicine is prescribed for.\n",
    "- Side Effects : The side effects experienced from taking the medication.\n",
    "- Image URL : A link to the image of the medicine.\n",
    "- Manufacturer : The names of the Manufacturer Companies.\n",
    "- Excellent Review % : Percentage of top-rated reviews.\n",
    "- Average Review % : Percentage of Average-rated reviews.\n",
    "- Poor Review % : Percentage of Poor-rated reviews.\n"
   ]
  },
  {
   "cell_type": "markdown",
   "metadata": {},
   "source": [
    "#### Obejctive : \n",
    "* The main objective from this dataset is to build a recommendation system which can recommend similar medicines based on user inputs. \n",
    "* Will be creating two recommendation systems , one by using the column (\"Uses\") which contains the Use case of the medicines and for another will be merging the (\"Uses\") column and (\"Side Effects\") column which contains the sides effects caused by the medicines for similarity based recommendation. \n",
    "* User can get recommendations based on Use case similarity and also (Side Effects + use case) <-- combined similarity.\n",
    "* Will also be creating a CSV file to store all the user inputs and models recommendations to that inputs.\n",
    "* Will also make use of the Review columns (Excellent , Average and Poor) to curate the results making it to appear from highest to lowest reviewed products. While these approaches really helps customers/viewer/spectator/etc to make decisions and to understand performance of the products in the market."
   ]
  },
  {
   "cell_type": "markdown",
   "metadata": {},
   "source": [
    "##### Importing all the necessary libraries for the project"
   ]
  },
  {
   "cell_type": "code",
   "execution_count": 1,
   "metadata": {},
   "outputs": [],
   "source": [
    "import pandas as pd \n",
    "import numpy as np\n",
    "import matplotlib.pyplot as plt\n",
    "import seaborn as sns \n",
    "import re\n",
    "import pickle\n",
    "import os\n",
    "from nltk.stem import PorterStemmer \n",
    "from nltk.corpus import stopwords \n",
    "from sklearn.feature_extraction.text import TfidfVectorizer\n",
    "from sklearn.metrics.pairwise import cosine_similarity"
   ]
  },
  {
   "cell_type": "markdown",
   "metadata": {},
   "source": [
    "##### Reading the CSV medicine dataset "
   ]
  },
  {
   "cell_type": "code",
   "execution_count": 2,
   "metadata": {},
   "outputs": [],
   "source": [
    "medDataSet = pd.read_csv(\"BigMedicalDataSet.csv\")"
   ]
  },
  {
   "cell_type": "code",
   "execution_count": 3,
   "metadata": {},
   "outputs": [
    {
     "data": {
      "text/html": [
       "<div>\n",
       "<style scoped>\n",
       "    .dataframe tbody tr th:only-of-type {\n",
       "        vertical-align: middle;\n",
       "    }\n",
       "\n",
       "    .dataframe tbody tr th {\n",
       "        vertical-align: top;\n",
       "    }\n",
       "\n",
       "    .dataframe thead th {\n",
       "        text-align: right;\n",
       "    }\n",
       "</style>\n",
       "<table border=\"1\" class=\"dataframe\">\n",
       "  <thead>\n",
       "    <tr style=\"text-align: right;\">\n",
       "      <th></th>\n",
       "      <th>Medicine Name</th>\n",
       "      <th>Composition</th>\n",
       "      <th>Uses</th>\n",
       "      <th>Side_effects</th>\n",
       "      <th>Image URL</th>\n",
       "      <th>Manufacturer</th>\n",
       "      <th>Excellent Review %</th>\n",
       "      <th>Average Review %</th>\n",
       "      <th>Poor Review %</th>\n",
       "    </tr>\n",
       "  </thead>\n",
       "  <tbody>\n",
       "    <tr>\n",
       "      <th>0</th>\n",
       "      <td>Avastin 400mg Injection</td>\n",
       "      <td>Bevacizumab (400mg)</td>\n",
       "      <td>Cancer of colon and rectum Non-small cell lun...</td>\n",
       "      <td>Rectal bleeding Taste change Headache Noseblee...</td>\n",
       "      <td>https://onemg.gumlet.io/l_watermark_346,w_480,...</td>\n",
       "      <td>Roche Products India Pvt Ltd</td>\n",
       "      <td>22</td>\n",
       "      <td>56</td>\n",
       "      <td>22</td>\n",
       "    </tr>\n",
       "    <tr>\n",
       "      <th>1</th>\n",
       "      <td>Augmentin 625 Duo Tablet</td>\n",
       "      <td>Amoxycillin  (500mg) +  Clavulanic Acid (125mg)</td>\n",
       "      <td>Treatment of Bacterial infections</td>\n",
       "      <td>Vomiting Nausea Diarrhea Mucocutaneous candidi...</td>\n",
       "      <td>https://onemg.gumlet.io/l_watermark_346,w_480,...</td>\n",
       "      <td>Glaxo SmithKline Pharmaceuticals Ltd</td>\n",
       "      <td>47</td>\n",
       "      <td>35</td>\n",
       "      <td>18</td>\n",
       "    </tr>\n",
       "    <tr>\n",
       "      <th>2</th>\n",
       "      <td>Azithral 500 Tablet</td>\n",
       "      <td>Azithromycin (500mg)</td>\n",
       "      <td>Treatment of Bacterial infections</td>\n",
       "      <td>Nausea Abdominal pain Diarrhea</td>\n",
       "      <td>https://onemg.gumlet.io/l_watermark_346,w_480,...</td>\n",
       "      <td>Alembic Pharmaceuticals Ltd</td>\n",
       "      <td>39</td>\n",
       "      <td>40</td>\n",
       "      <td>21</td>\n",
       "    </tr>\n",
       "    <tr>\n",
       "      <th>3</th>\n",
       "      <td>Ascoril LS Syrup</td>\n",
       "      <td>Ambroxol (30mg/5ml) + Levosalbutamol (1mg/5ml)...</td>\n",
       "      <td>Treatment of Cough with mucus</td>\n",
       "      <td>Nausea Vomiting Diarrhea Upset stomach Stomach...</td>\n",
       "      <td>https://onemg.gumlet.io/l_watermark_346,w_480,...</td>\n",
       "      <td>Glenmark Pharmaceuticals Ltd</td>\n",
       "      <td>24</td>\n",
       "      <td>41</td>\n",
       "      <td>35</td>\n",
       "    </tr>\n",
       "    <tr>\n",
       "      <th>4</th>\n",
       "      <td>Aciloc 150 Tablet</td>\n",
       "      <td>Ranitidine (150mg)</td>\n",
       "      <td>Treatment of Gastroesophageal reflux disease (...</td>\n",
       "      <td>Headache Diarrhea Gastrointestinal disturbance</td>\n",
       "      <td>https://onemg.gumlet.io/l_watermark_346,w_480,...</td>\n",
       "      <td>Cadila Pharmaceuticals Ltd</td>\n",
       "      <td>34</td>\n",
       "      <td>37</td>\n",
       "      <td>29</td>\n",
       "    </tr>\n",
       "  </tbody>\n",
       "</table>\n",
       "</div>"
      ],
      "text/plain": [
       "              Medicine Name  \\\n",
       "0   Avastin 400mg Injection   \n",
       "1  Augmentin 625 Duo Tablet   \n",
       "2       Azithral 500 Tablet   \n",
       "3          Ascoril LS Syrup   \n",
       "4         Aciloc 150 Tablet   \n",
       "\n",
       "                                         Composition  \\\n",
       "0                                Bevacizumab (400mg)   \n",
       "1    Amoxycillin  (500mg) +  Clavulanic Acid (125mg)   \n",
       "2                               Azithromycin (500mg)   \n",
       "3  Ambroxol (30mg/5ml) + Levosalbutamol (1mg/5ml)...   \n",
       "4                                 Ranitidine (150mg)   \n",
       "\n",
       "                                                Uses  \\\n",
       "0   Cancer of colon and rectum Non-small cell lun...   \n",
       "1                  Treatment of Bacterial infections   \n",
       "2                  Treatment of Bacterial infections   \n",
       "3                      Treatment of Cough with mucus   \n",
       "4  Treatment of Gastroesophageal reflux disease (...   \n",
       "\n",
       "                                        Side_effects  \\\n",
       "0  Rectal bleeding Taste change Headache Noseblee...   \n",
       "1  Vomiting Nausea Diarrhea Mucocutaneous candidi...   \n",
       "2                     Nausea Abdominal pain Diarrhea   \n",
       "3  Nausea Vomiting Diarrhea Upset stomach Stomach...   \n",
       "4     Headache Diarrhea Gastrointestinal disturbance   \n",
       "\n",
       "                                           Image URL  \\\n",
       "0  https://onemg.gumlet.io/l_watermark_346,w_480,...   \n",
       "1  https://onemg.gumlet.io/l_watermark_346,w_480,...   \n",
       "2  https://onemg.gumlet.io/l_watermark_346,w_480,...   \n",
       "3  https://onemg.gumlet.io/l_watermark_346,w_480,...   \n",
       "4  https://onemg.gumlet.io/l_watermark_346,w_480,...   \n",
       "\n",
       "                           Manufacturer  Excellent Review %  Average Review %  \\\n",
       "0          Roche Products India Pvt Ltd                  22                56   \n",
       "1  Glaxo SmithKline Pharmaceuticals Ltd                  47                35   \n",
       "2           Alembic Pharmaceuticals Ltd                  39                40   \n",
       "3          Glenmark Pharmaceuticals Ltd                  24                41   \n",
       "4            Cadila Pharmaceuticals Ltd                  34                37   \n",
       "\n",
       "   Poor Review %  \n",
       "0             22  \n",
       "1             18  \n",
       "2             21  \n",
       "3             35  \n",
       "4             29  "
      ]
     },
     "execution_count": 3,
     "metadata": {},
     "output_type": "execute_result"
    }
   ],
   "source": [
    "medDataSet.head()"
   ]
  },
  {
   "cell_type": "markdown",
   "metadata": {},
   "source": [
    "##### A quick concise summary using info() "
   ]
  },
  {
   "cell_type": "code",
   "execution_count": 4,
   "metadata": {},
   "outputs": [
    {
     "name": "stdout",
     "output_type": "stream",
     "text": [
      "<class 'pandas.core.frame.DataFrame'>\n",
      "RangeIndex: 11825 entries, 0 to 11824\n",
      "Data columns (total 9 columns):\n",
      " #   Column              Non-Null Count  Dtype \n",
      "---  ------              --------------  ----- \n",
      " 0   Medicine Name       11825 non-null  object\n",
      " 1   Composition         11825 non-null  object\n",
      " 2   Uses                11825 non-null  object\n",
      " 3   Side_effects        11825 non-null  object\n",
      " 4   Image URL           11825 non-null  object\n",
      " 5   Manufacturer        11825 non-null  object\n",
      " 6   Excellent Review %  11825 non-null  int64 \n",
      " 7   Average Review %    11825 non-null  int64 \n",
      " 8   Poor Review %       11825 non-null  int64 \n",
      "dtypes: int64(3), object(6)\n",
      "memory usage: 831.6+ KB\n"
     ]
    }
   ],
   "source": [
    "medDataSet.info()"
   ]
  },
  {
   "cell_type": "markdown",
   "metadata": {},
   "source": [
    "Looking at the info() of the dataset there are about 9 columns from which 6 contains object data types \"object(6)\" whereas other 3 are integer data types \"int64(3)\". And there are exactly \"11825\" non-null elements for each 9 columns."
   ]
  },
  {
   "cell_type": "markdown",
   "metadata": {},
   "source": []
  },
  {
   "cell_type": "markdown",
   "metadata": {},
   "source": [
    "##### Doing a summary of statistics using \"describe()\" and then transposing it using \"T\" on the dataset."
   ]
  },
  {
   "cell_type": "code",
   "execution_count": 25,
   "metadata": {},
   "outputs": [
    {
     "data": {
      "text/html": [
       "<div>\n",
       "<style scoped>\n",
       "    .dataframe tbody tr th:only-of-type {\n",
       "        vertical-align: middle;\n",
       "    }\n",
       "\n",
       "    .dataframe tbody tr th {\n",
       "        vertical-align: top;\n",
       "    }\n",
       "\n",
       "    .dataframe thead th {\n",
       "        text-align: right;\n",
       "    }\n",
       "</style>\n",
       "<table border=\"1\" class=\"dataframe\">\n",
       "  <thead>\n",
       "    <tr style=\"text-align: right;\">\n",
       "      <th></th>\n",
       "      <th>count</th>\n",
       "      <th>mean</th>\n",
       "      <th>std</th>\n",
       "      <th>min</th>\n",
       "      <th>25%</th>\n",
       "      <th>50%</th>\n",
       "      <th>75%</th>\n",
       "      <th>max</th>\n",
       "    </tr>\n",
       "  </thead>\n",
       "  <tbody>\n",
       "    <tr>\n",
       "      <th>Excellent Review %</th>\n",
       "      <td>11825.0</td>\n",
       "      <td>38.516025</td>\n",
       "      <td>25.225343</td>\n",
       "      <td>0.0</td>\n",
       "      <td>22.0</td>\n",
       "      <td>34.0</td>\n",
       "      <td>51.0</td>\n",
       "      <td>100.0</td>\n",
       "    </tr>\n",
       "    <tr>\n",
       "      <th>Average Review %</th>\n",
       "      <td>11825.0</td>\n",
       "      <td>35.756364</td>\n",
       "      <td>18.268134</td>\n",
       "      <td>0.0</td>\n",
       "      <td>27.0</td>\n",
       "      <td>35.0</td>\n",
       "      <td>47.0</td>\n",
       "      <td>88.0</td>\n",
       "    </tr>\n",
       "    <tr>\n",
       "      <th>Poor Review %</th>\n",
       "      <td>11825.0</td>\n",
       "      <td>25.727611</td>\n",
       "      <td>23.991985</td>\n",
       "      <td>0.0</td>\n",
       "      <td>0.0</td>\n",
       "      <td>22.0</td>\n",
       "      <td>35.0</td>\n",
       "      <td>100.0</td>\n",
       "    </tr>\n",
       "  </tbody>\n",
       "</table>\n",
       "</div>"
      ],
      "text/plain": [
       "                      count       mean        std  min   25%   50%   75%  \\\n",
       "Excellent Review %  11825.0  38.516025  25.225343  0.0  22.0  34.0  51.0   \n",
       "Average Review %    11825.0  35.756364  18.268134  0.0  27.0  35.0  47.0   \n",
       "Poor Review %       11825.0  25.727611  23.991985  0.0   0.0  22.0  35.0   \n",
       "\n",
       "                      max  \n",
       "Excellent Review %  100.0  \n",
       "Average Review %     88.0  \n",
       "Poor Review %       100.0  "
      ]
     },
     "execution_count": 25,
     "metadata": {},
     "output_type": "execute_result"
    }
   ],
   "source": [
    "medDataSet.describe().T "
   ]
  },
  {
   "cell_type": "markdown",
   "metadata": {},
   "source": [
    "The \"describe()\" have returned statistics for the columns \"Excellent Review %\" , \"Average Review %\" and \"Poor Review %\" which contains integer values.\n",
    "\n",
    "Count: The count is 11825 for each columns.\n",
    "\n",
    "Mean: Excellent Reviews column has highest mean compared to rest of the columns with \"38.516025\" , while Average Reviews column has a mean of \"35.756364\" and Poor Reviews column has a mean of \"25.727611\".\n",
    "\n",
    "Std (Standard Deviation): Measures variability. Excellent Reviews have a high variability (25.225343), indicating diverse review scores. Followed by Poor Review column with \"23.991985\" and at last Average Review with \"18.268134\" standard deviation.\n",
    "\n",
    "Min (Minimum Value): The lowest value recorded for all three review columns is \"0.0\", suggesting some items received no reviews.\n",
    "\n",
    "25%, 50%, 75% (Percentiles): These values provide insights into the distribution. For instance, 50% of the data points for Excellent Reviews column are below 34% , while for Average Review it is 35% and for Poor Review column it is 22%.\n",
    "\n",
    "Max (Maximum Value): The highest percentage for Excellent and Poor Reviews columns are 100%, while for Average Reviews column it's 88%."
   ]
  },
  {
   "cell_type": "markdown",
   "metadata": {},
   "source": []
  },
  {
   "cell_type": "markdown",
   "metadata": {},
   "source": [
    "##### Using \".isnull().sum()\" to identify missing values in the DataFrame and to return the total count of null (NaN) entries for each column."
   ]
  },
  {
   "cell_type": "code",
   "execution_count": 26,
   "metadata": {},
   "outputs": [
    {
     "data": {
      "text/plain": [
       "Medicine Name         0\n",
       "Composition           0\n",
       "Uses                  0\n",
       "Side_effects          0\n",
       "Image URL             0\n",
       "Manufacturer          0\n",
       "Excellent Review %    0\n",
       "Average Review %      0\n",
       "Poor Review %         0\n",
       "dtype: int64"
      ]
     },
     "execution_count": 26,
     "metadata": {},
     "output_type": "execute_result"
    }
   ],
   "source": [
    "medDataSet.isnull().sum()"
   ]
  },
  {
   "cell_type": "markdown",
   "metadata": {},
   "source": [
    "There are no null values in any of the columns "
   ]
  },
  {
   "cell_type": "markdown",
   "metadata": {},
   "source": []
  },
  {
   "cell_type": "markdown",
   "metadata": {},
   "source": [
    "##### Using \".duplicated().sum()\" to check for duplicate rows in a DataFrame and return the total count of duplicates. I"
   ]
  },
  {
   "cell_type": "code",
   "execution_count": 27,
   "metadata": {},
   "outputs": [
    {
     "data": {
      "text/plain": [
       "84"
      ]
     },
     "execution_count": 27,
     "metadata": {},
     "output_type": "execute_result"
    }
   ],
   "source": [
    "medDataSet.duplicated().sum()"
   ]
  },
  {
   "cell_type": "markdown",
   "metadata": {},
   "source": [
    "There are 84 elements which are duplicates"
   ]
  },
  {
   "cell_type": "markdown",
   "metadata": {},
   "source": []
  },
  {
   "cell_type": "markdown",
   "metadata": {},
   "source": [
    "##### Creating a new DataFrame named \"dupMedDataSet\" for reviewing the duplicates elements"
   ]
  },
  {
   "cell_type": "code",
   "execution_count": 61,
   "metadata": {},
   "outputs": [],
   "source": [
    "dupMedDataSet = medDataSet[medDataSet.duplicated()] "
   ]
  },
  {
   "cell_type": "code",
   "execution_count": 62,
   "metadata": {},
   "outputs": [
    {
     "data": {
      "text/html": [
       "<div>\n",
       "<style scoped>\n",
       "    .dataframe tbody tr th:only-of-type {\n",
       "        vertical-align: middle;\n",
       "    }\n",
       "\n",
       "    .dataframe tbody tr th {\n",
       "        vertical-align: top;\n",
       "    }\n",
       "\n",
       "    .dataframe thead th {\n",
       "        text-align: right;\n",
       "    }\n",
       "</style>\n",
       "<table border=\"1\" class=\"dataframe\">\n",
       "  <thead>\n",
       "    <tr style=\"text-align: right;\">\n",
       "      <th></th>\n",
       "      <th>Medicine Name</th>\n",
       "      <th>Composition</th>\n",
       "      <th>Uses</th>\n",
       "      <th>Side_effects</th>\n",
       "      <th>Image URL</th>\n",
       "      <th>Manufacturer</th>\n",
       "      <th>Excellent Review %</th>\n",
       "      <th>Average Review %</th>\n",
       "      <th>Poor Review %</th>\n",
       "    </tr>\n",
       "  </thead>\n",
       "  <tbody>\n",
       "    <tr>\n",
       "      <th>780</th>\n",
       "      <td>Aristogyl-F Oral Suspension</td>\n",
       "      <td>Furazolidone (30mg/5ml) + Metronidazole (100mg...</td>\n",
       "      <td>Diarrhea Dysentery</td>\n",
       "      <td>Nausea Headache Dryness in mouth Metallic tast...</td>\n",
       "      <td>https://onemg.gumlet.io/l_watermark_346,w_480,...</td>\n",
       "      <td>Aristo Pharmaceuticals Pvt Ltd</td>\n",
       "      <td>22</td>\n",
       "      <td>28</td>\n",
       "      <td>50</td>\n",
       "    </tr>\n",
       "    <tr>\n",
       "      <th>956</th>\n",
       "      <td>Apexitra 200 Capsule</td>\n",
       "      <td>Itraconazole (200mg)</td>\n",
       "      <td>Treatment of Fungal infections</td>\n",
       "      <td>Nausea Abdominal pain Constipation Dizziness H...</td>\n",
       "      <td>https://onemg.gumlet.io/l_watermark_346,w_480,...</td>\n",
       "      <td>Apex Laboratories Pvt Ltd</td>\n",
       "      <td>83</td>\n",
       "      <td>17</td>\n",
       "      <td>0</td>\n",
       "    </tr>\n",
       "    <tr>\n",
       "      <th>1121</th>\n",
       "      <td>Amyclox-LB-DS Capsule</td>\n",
       "      <td>Amoxycillin (250mg) + Cloxacillin (250mg) + La...</td>\n",
       "      <td>Bacterial infections</td>\n",
       "      <td>Rash Vomiting Allergic reaction Stomach pain N...</td>\n",
       "      <td>https://onemg.gumlet.io/l_watermark_346,w_480,...</td>\n",
       "      <td>Ind Swift Laboratories Ltd</td>\n",
       "      <td>0</td>\n",
       "      <td>0</td>\n",
       "      <td>100</td>\n",
       "    </tr>\n",
       "    <tr>\n",
       "      <th>1140</th>\n",
       "      <td>Arthocerin-DG Tablet</td>\n",
       "      <td>Diacerein (50mg) + Glucosamine (1500mg)</td>\n",
       "      <td>Osteoarthritis</td>\n",
       "      <td>Nausea Diarrhea Constipation Urine discolorati...</td>\n",
       "      <td>https://onemg.gumlet.io/l_watermark_346,w_480,...</td>\n",
       "      <td>Pulse Pharmaceuticals</td>\n",
       "      <td>44</td>\n",
       "      <td>23</td>\n",
       "      <td>33</td>\n",
       "    </tr>\n",
       "    <tr>\n",
       "      <th>1149</th>\n",
       "      <td>Avicaine Oral Topical Solution</td>\n",
       "      <td>Lidocaine (2%)</td>\n",
       "      <td>Local anesthesia (Numb tissues in a specific ...</td>\n",
       "      <td>Allergic reaction Application site reactions b...</td>\n",
       "      <td>https://onemg.gumlet.io/l_watermark_346,w_480,...</td>\n",
       "      <td>Avirav Sciences Pvt Ltd</td>\n",
       "      <td>100</td>\n",
       "      <td>0</td>\n",
       "      <td>0</td>\n",
       "    </tr>\n",
       "  </tbody>\n",
       "</table>\n",
       "</div>"
      ],
      "text/plain": [
       "                       Medicine Name  \\\n",
       "780      Aristogyl-F Oral Suspension   \n",
       "956             Apexitra 200 Capsule   \n",
       "1121           Amyclox-LB-DS Capsule   \n",
       "1140            Arthocerin-DG Tablet   \n",
       "1149  Avicaine Oral Topical Solution   \n",
       "\n",
       "                                            Composition  \\\n",
       "780   Furazolidone (30mg/5ml) + Metronidazole (100mg...   \n",
       "956                                Itraconazole (200mg)   \n",
       "1121  Amoxycillin (250mg) + Cloxacillin (250mg) + La...   \n",
       "1140            Diacerein (50mg) + Glucosamine (1500mg)   \n",
       "1149                                     Lidocaine (2%)   \n",
       "\n",
       "                                                   Uses  \\\n",
       "780                                  Diarrhea Dysentery   \n",
       "956                      Treatment of Fungal infections   \n",
       "1121                               Bacterial infections   \n",
       "1140                                     Osteoarthritis   \n",
       "1149   Local anesthesia (Numb tissues in a specific ...   \n",
       "\n",
       "                                           Side_effects  \\\n",
       "780   Nausea Headache Dryness in mouth Metallic tast...   \n",
       "956   Nausea Abdominal pain Constipation Dizziness H...   \n",
       "1121  Rash Vomiting Allergic reaction Stomach pain N...   \n",
       "1140  Nausea Diarrhea Constipation Urine discolorati...   \n",
       "1149  Allergic reaction Application site reactions b...   \n",
       "\n",
       "                                              Image URL  \\\n",
       "780   https://onemg.gumlet.io/l_watermark_346,w_480,...   \n",
       "956   https://onemg.gumlet.io/l_watermark_346,w_480,...   \n",
       "1121  https://onemg.gumlet.io/l_watermark_346,w_480,...   \n",
       "1140  https://onemg.gumlet.io/l_watermark_346,w_480,...   \n",
       "1149  https://onemg.gumlet.io/l_watermark_346,w_480,...   \n",
       "\n",
       "                        Manufacturer  Excellent Review %  Average Review %  \\\n",
       "780   Aristo Pharmaceuticals Pvt Ltd                  22                28   \n",
       "956        Apex Laboratories Pvt Ltd                  83                17   \n",
       "1121      Ind Swift Laboratories Ltd                   0                 0   \n",
       "1140           Pulse Pharmaceuticals                  44                23   \n",
       "1149         Avirav Sciences Pvt Ltd                 100                 0   \n",
       "\n",
       "      Poor Review %  \n",
       "780              50  \n",
       "956               0  \n",
       "1121            100  \n",
       "1140             33  \n",
       "1149              0  "
      ]
     },
     "execution_count": 62,
     "metadata": {},
     "output_type": "execute_result"
    }
   ],
   "source": [
    "dupMedDataSet.head()"
   ]
  },
  {
   "cell_type": "markdown",
   "metadata": {},
   "source": [
    "**Observation** :\n",
    " \n",
    "The duplicate values araised due to having same image links for the medicines in the column \"Image URL\". Other than that there are no duplicates in my obervation. To be honest this will not make any major difference for the project so will be moving ahead. The images for the medicines can be changed under the guidance of product expert which is a mature solution. "
   ]
  },
  {
   "cell_type": "markdown",
   "metadata": {},
   "source": []
  },
  {
   "cell_type": "markdown",
   "metadata": {},
   "source": [
    "##### Using \".value_counts()\" to count the frequency of unique values in a DataFrame column. It's useful for understanding data distribution!"
   ]
  },
  {
   "cell_type": "code",
   "execution_count": 30,
   "metadata": {},
   "outputs": [
    {
     "data": {
      "text/plain": [
       "Medicine Name         Composition                                                           Uses                                                                                           Side_effects                                                                                                                                                                                                                                                                                                                                                                                                                                              Image URL                                                                                                                          Manufacturer                      Excellent Review %  Average Review %  Poor Review %\n",
       "Nebistar 5 Tablet     Nebivolol (5mg)                                                       Treatment of Hypertension (high blood pressure)Prevention of Heart attackPrevention of Stroke  Nausea Headache Fatigue Constipation Diarrhea Dizziness Breathlessness Edema swelling                                                                                                                                                                                                                                                                                                                                                                     https://onemg.gumlet.io/l_watermark_346,w_480,h_480/a_ignore,w_480,h_480,c_fit,q_auto,f_auto/cropped/f4rgxdsodeypcb1rutix.jpg      Lupin Ltd                         34                  48                18               3\n",
       "Nervite Plus Tablet   Pregabalin (75mg) + Nortriptyline (10mg) + Methylcobalamin (1500mcg)  Treatment of Neuropathic pain                                                                  Constipation Weight gain Orthostatic hypotension sudden lowering of blood pressure on standing Increased heart rate Dizziness Sleepiness Tiredness Blurred vision Dryness in mouth Difficulty in urination Uncoordinated body movements                                                                                                                                                                                                                   https://onemg.gumlet.io/l_watermark_346,w_480,h_480/a_ignore,w_480,h_480,c_fit,q_auto,f_auto/f3c0763c3a824a71a3592cbbfb886c82.jpg  Macleods Pharmaceuticals Pvt Ltd  33                  43                24               2\n",
       "Arthocerin-DG Tablet  Diacerein (50mg) + Glucosamine (1500mg)                                Osteoarthritis                                                                                Nausea Diarrhea Constipation Urine discoloration Heartburn                                                                                                                                                                                                                                                                                                                                                                                                https://onemg.gumlet.io/l_watermark_346,w_480,h_480/a_ignore,w_480,h_480,c_fit,q_auto,f_auto/gku2skcfmfjihe9iyd8c.jpg              Pulse Pharmaceuticals             44                  23                33               2\n",
       "Ketoya 2% Cream       Ketoconazole (2% w/w)                                                  Fungal skin infections                                                                        Skin peeling Application site reactions burning irritation itching and redness Nausea Vomiting Abdominal pain Increased liver enzymes Application site redness Itching Diarrhea Abnormal liver function tests Adrenal insufficiency Application site burning                                                                                                                                                                                              https://onemg.gumlet.io/l_watermark_346,w_480,h_480/a_ignore,w_480,h_480,c_fit,q_auto,f_auto/ox10djspwezteyifyigm.jpg              Yaher Pharma                      100                 0                 0                2\n",
       "Formin-SR 500 Tablet  Metformin (500mg)                                                     Treatment of Type 2 diabetes mellitus                                                          Diarrhea Nausea Vomiting Flatulence                                                                                                                                                                                                                                                                                                                                                                                                                       https://onemg.gumlet.io/l_watermark_346,w_480,h_480/a_ignore,w_480,h_480,c_fit,q_auto,f_auto/cropped/wfhfiza5lb01oicbs7jn.jpg      Alkem Laboratories Ltd            0                   0                 100              2\n",
       "                                                                                                                                                                                                                                                                                                                                                                                                                                                                                                                                                                                                                                                                                                                                                                                                                                                                                ..\n",
       "Ivoral Forte Tablet   Ivermectin  (12mg) +  Albendazole (400mg)                             Treatment of Worm infections                                                                   Nausea Vomiting Diarrhea Loss of appetite Increased liver enzymes Itching Dizziness Swelling of lymph nodes                                                                                                                                                                                                                                                                                                                                               https://onemg.gumlet.io/l_watermark_346,w_480,h_480/a_ignore,w_480,h_480,c_fit,q_auto,f_auto/rxokqabvkhrrmrewhbjs.jpg              Zydus Cadila                      27                  27                46               1\n",
       "Ivrea 1 Cream         Ivermectin (1% w/w)                                                    RosaceaTreatment of Parasitic infections                                                      Application site reactions burning irritation itching and redness Dizziness Itching Peripheral edema Fever Joint pain Swelling of lymph nodes Synovitis Nausea Diarrhea Orthostatic hypotension sudden lowering of blood pressure on standing Facial swelling Fast heart rate Increased white blood cell count eosinophils Increased hemoglobin Increased alanine aminotransferase Increased aspartate aminotransferase Decreased white blood cell count  https://onemg.gumlet.io/l_watermark_346,w_480,h_480/a_ignore,w_480,h_480,c_fit,q_auto,f_auto/cropped/c3bi9jipwv1lchvjrqxl.jpg      Ajanta Pharma Ltd                 20                  57                23               1\n",
       "Ixarola 15mg Tablet   Rivaroxaban (15mg)                                                    Treatment and prevention of Blood clots                                                        Bleeding                                                                                                                                                                                                                                                                                                                                                                                                                                                  https://onemg.gumlet.io/l_watermark_346,w_480,h_480/a_ignore,w_480,h_480,c_fit,q_auto,f_auto/bc46fe09eb7e41b68e6acfe9462d62b4.jpg  Zydus Cadila                      53                  34                13               1\n",
       "Ixarola 20mg Tablet   Rivaroxaban (20mg)                                                    Treatment and prevention of Blood clots                                                        Bleeding                                                                                                                                                                                                                                                                                                                                                                                                                                                  https://onemg.gumlet.io/l_watermark_346,w_480,h_480/a_ignore,w_480,h_480,c_fit,q_auto,f_auto/wfeza2qqhpvmfhzkuzwr.jpg              Zydus Cadila                      42                  33                25               1\n",
       "leocan 150mg Tablet   Fluconazole (150mg)                                                   Treatment of Fungal infections                                                                 Headache Nausea Stomach pain                                                                                                                                                                                                                                                                                                                                                                                                                              https://onemg.gumlet.io/l_watermark_346,w_480,h_480/a_ignore,w_480,h_480,c_fit,q_auto,f_auto/dzlm1ejzln1ss7tcdyka.jpg              Leo Life Science Pvt Ltd          0                   33                67               1\n",
       "Name: count, Length: 11741, dtype: int64"
      ]
     },
     "execution_count": 30,
     "metadata": {},
     "output_type": "execute_result"
    }
   ],
   "source": [
    "medDataSet.value_counts() "
   ]
  },
  {
   "cell_type": "code",
   "execution_count": 31,
   "metadata": {},
   "outputs": [
    {
     "data": {
      "text/plain": [
       "Medicine Name\n",
       "Lulifin Cream            4\n",
       "Benadryl Syrup           3\n",
       "Livoluk Oral Solution    3\n",
       "Nebistar 5 Tablet        3\n",
       "Amrolstar Cream          3\n",
       "                        ..\n",
       "Jubira 10 Tablet         1\n",
       "Joincerin M  Tablet      1\n",
       "Jupiros 20 Tablet        1\n",
       "Joykem ODT 50 Tablet     1\n",
       "MR Met 500mg Tablet      1\n",
       "Name: count, Length: 11498, dtype: int64"
      ]
     },
     "execution_count": 31,
     "metadata": {},
     "output_type": "execute_result"
    }
   ],
   "source": [
    "medDataSet[\"Medicine Name\"].value_counts()"
   ]
  },
  {
   "cell_type": "markdown",
   "metadata": {},
   "source": [
    "Taking an insight into \"medDataSet[\"Medicine Name\"]\" <-- Medicine Names using \"value_counts()\" \n",
    "\n",
    "It is observed that the Medicine Name \"Lulifin Cream \" appears 4 times which is the highest , \n",
    "while \"Benadryl Syrup\" , \"Livoluk Oral Solution\" , \"Nebistar 5 Tablet\" , \"Amrolstar Cream \" and so appears 3 times. And there any many such medicine names for example \"Jubira 10 Tablet \" , \"Joincerin M  Tablet\" , \"Jupiros 20 Tablet \" , etc which is appearing only 1 time.\n",
    "\n",
    "Length: (11498): There are (11,498) unique values in the column being analyzed.\n",
    "\n",
    "dtype: (int64): The data type of the counts is (int64), meaning the counts are stored as 64-bit integers.\n"
   ]
  },
  {
   "cell_type": "markdown",
   "metadata": {},
   "source": []
  },
  {
   "cell_type": "markdown",
   "metadata": {},
   "source": [
    "##### Using \"unique()\" to return an array of unique values from the DataFrame column \"Medicine Name\" . It's useful for quickly identifying all distinct entries in your data!"
   ]
  },
  {
   "cell_type": "code",
   "execution_count": 51,
   "metadata": {},
   "outputs": [
    {
     "data": {
      "text/plain": [
       "array(['Avastin 400mg Injection', 'Augmentin 625 Duo Tablet',\n",
       "       'Azithral 500 Tablet', ..., 'Zipcoz Tablet', 'Zestasil 100 Tablet',\n",
       "       'Zedruff Shampoo'], dtype=object)"
      ]
     },
     "execution_count": 51,
     "metadata": {},
     "output_type": "execute_result"
    }
   ],
   "source": [
    "medDataSet[\"Medicine Name\"].unique()"
   ]
  },
  {
   "cell_type": "markdown",
   "metadata": {},
   "source": [
    "##### Using \"unique().shape\" to identify the number of dimensions (total length) of the unique values in the (Medicine Name) column."
   ]
  },
  {
   "cell_type": "code",
   "execution_count": 46,
   "metadata": {},
   "outputs": [
    {
     "data": {
      "text/plain": [
       "(11498,)"
      ]
     },
     "execution_count": 46,
     "metadata": {},
     "output_type": "execute_result"
    }
   ],
   "source": [
    "medDataSet[\"Medicine Name\"].unique().shape  "
   ]
  },
  {
   "cell_type": "markdown",
   "metadata": {},
   "source": [
    "There are a total of \"11,498\" unique values in the column \"Medicine Name\", Simply there are \"11,498\" unique names."
   ]
  },
  {
   "cell_type": "markdown",
   "metadata": {},
   "source": []
  },
  {
   "cell_type": "markdown",
   "metadata": {},
   "source": [
    "##### Using \"shape\" to identify the total dimensions of the \"medDataSet\" DataFrame"
   ]
  },
  {
   "cell_type": "code",
   "execution_count": 43,
   "metadata": {},
   "outputs": [
    {
     "data": {
      "text/plain": [
       "(11825, 9)"
      ]
     },
     "execution_count": 43,
     "metadata": {},
     "output_type": "execute_result"
    }
   ],
   "source": [
    "medDataSet.shape"
   ]
  },
  {
   "cell_type": "markdown",
   "metadata": {},
   "source": [
    "There are \"11,825\" rows and \"9\" columns in the \"medDataSet\" DataFrame"
   ]
  },
  {
   "cell_type": "markdown",
   "metadata": {},
   "source": []
  },
  {
   "cell_type": "markdown",
   "metadata": {},
   "source": [
    "#####  Using \"columns\" to return an Index object containing the column labels of the DataFrame. \n"
   ]
  },
  {
   "cell_type": "code",
   "execution_count": 5,
   "metadata": {},
   "outputs": [
    {
     "data": {
      "text/plain": [
       "Index(['Medicine Name', 'Composition', 'Uses', 'Side_effects', 'Image URL',\n",
       "       'Manufacturer', 'Excellent Review %', 'Average Review %',\n",
       "       'Poor Review %'],\n",
       "      dtype='object')"
      ]
     },
     "execution_count": 5,
     "metadata": {},
     "output_type": "execute_result"
    }
   ],
   "source": [
    "medDataSet.columns "
   ]
  },
  {
   "cell_type": "markdown",
   "metadata": {},
   "source": []
  },
  {
   "cell_type": "markdown",
   "metadata": {},
   "source": [
    "##### Using \"rename()\" method to change labels (column names) in the \"medDataSet\" DataFrame.\n",
    "\n",
    "This is done for the purpose of naming conventions and readability."
   ]
  },
  {
   "cell_type": "code",
   "execution_count": 4,
   "metadata": {},
   "outputs": [],
   "source": [
    "medDataSet.rename(columns={'Medicine Name': 'Name'}, inplace=True)\n",
    "medDataSet.rename(columns={'Image URL': 'image_url'}, inplace=True)\n",
    "medDataSet.rename(columns={'Excellent Review %': 'exc_review_per'}, inplace=True)\n",
    "medDataSet.rename(columns={'Average Review %': 'avg_review_per'}, inplace=True)\n",
    "medDataSet.rename(columns={'Poor Review %': 'poor_review_per'}, inplace=True)"
   ]
  },
  {
   "cell_type": "code",
   "execution_count": 5,
   "metadata": {},
   "outputs": [
    {
     "data": {
      "text/plain": [
       "Index(['Name', 'Composition', 'Uses', 'Side_effects', 'image_url',\n",
       "       'Manufacturer', 'exc_review_per', 'avg_review_per', 'poor_review_per'],\n",
       "      dtype='object')"
      ]
     },
     "execution_count": 5,
     "metadata": {},
     "output_type": "execute_result"
    }
   ],
   "source": [
    "medDataSet.columns"
   ]
  },
  {
   "cell_type": "markdown",
   "metadata": {},
   "source": [
    "The following are our new column names --> (['Name', 'Composition', 'Uses', 'Side_effects', 'image_url', 'Manufacturer', 'exc_review_per', 'avg_review_per', 'poor_review_per'])"
   ]
  },
  {
   "cell_type": "markdown",
   "metadata": {},
   "source": []
  },
  {
   "cell_type": "markdown",
   "metadata": {},
   "source": [
    "### Bar Graph"
   ]
  },
  {
   "cell_type": "markdown",
   "metadata": {},
   "source": [
    "##### Visualizing the columns \"exc_review_per\" , \"avg_review_per\" and \"poor_review_per\" which contains the review of the medicines using bar graph.\n",
    "\n",
    "- Initialization: Initializes a figure and axis with a specific size (10x7 inches).\n",
    "- Data: Sets the bar width and range based on \"medDataSet\".\n",
    "- Bars: Plots three sets of bars representing 'Excellent', 'Average', and 'Poor' review percentages in green, yellow, and red, respectively.\n",
    "- Labels: Adds labels for the y-axis, chart title, and a legend.\n",
    "- Display: Plots the chart."
   ]
  },
  {
   "cell_type": "code",
   "execution_count": 13,
   "metadata": {},
   "outputs": [
    {
     "data": {
      "image/png": "[encoded data removed]",
      "text/plain": [
       "<Figure size 1000x700 with 1 Axes>"
      ]
     },
     "metadata": {},
     "output_type": "display_data"
    }
   ],
   "source": [
    "fig, ax = plt.subplots(figsize=(10, 7))\n",
    "\n",
    "barWidth = 0.5\n",
    "r = range(len(medDataSet))\n",
    "\n",
    "# Stacked bar chart\n",
    "ax.bar(r, medDataSet['exc_review_per'], label='Excellent', color='green')\n",
    "ax.bar(r, medDataSet['avg_review_per'], label='Average', color='yellow')\n",
    "ax.bar(r, medDataSet['poor_review_per'],  label='Poor', color='red')\n",
    "\n",
    "# Adding labels and title\n",
    "\n",
    "ax.set_ylabel('Review Percentage')\n",
    "ax.set_title('Medicine Review Distribution')\n",
    "ax.legend()\n",
    "\n",
    "plt.show()\n"
   ]
  },
  {
   "cell_type": "markdown",
   "metadata": {},
   "source": [
    "Observations :\n",
    "\n",
    "The x-axis represents different medicines (numbered from 0 to 12000), and the y-axis represents the review percentage, ranging from 0% to 100%. \n",
    "\n",
    "The reviews are categorized into three types: 1. Excellent (green), 2. Average (yellow), and 3. Poor (red).\n",
    "\n",
    "\n",
    "Distribution Patterns:\n",
    "* The graph shows a wide variation in review percentages across different medicines.\n",
    "* For many medicines, there is a significant portion of poor reviews (red), indicating dissatisfaction or ineffectiveness.\n",
    "* Some medicines have a higher percentage of excellent reviews (green), suggesting they are well-received.\n",
    "* The average reviews (yellow) are also present but generally seem to be less frequent compared to poor reviews.\n",
    "\n",
    "Distribution Of Reviews:\n",
    "* There are several peaks where the excellent reviews (green) reach close to 100%, indicating that some medicines are highly rated.\n",
    "* There are medicines with a very high percentage of poor reviews (red), indicating significant dissatisfaction.\n",
    "* The distribution of reviews is quite scattered, with no clear pattern or trend across the medicines.\n",
    "\n",
    "Interpretation:\n",
    "* The variability in the review percentages suggests that the effectiveness and satisfaction with medicines can vary greatly.\n",
    "* Medicines with a high percentage of excellent reviews might be more effective or have fewer side effects.\n",
    "* Medicines with a high percentage of poor reviews might be less effective or have more side effects.\n",
    "* The presence of average reviews indicates a middle ground where the medicine might be satisfactory but not exceptional.\n",
    "\n"
   ]
  },
  {
   "cell_type": "markdown",
   "metadata": {},
   "source": []
  },
  {
   "cell_type": "markdown",
   "metadata": {},
   "source": [
    "### Histogram"
   ]
  },
  {
   "cell_type": "markdown",
   "metadata": {},
   "source": [
    "##### Visualizing the columns \"exc_review_per\" , \"avg_review_per\" and \"poor_review_per\" which contains the review of the medicines with histogram.\n",
    "\n",
    "\n",
    "1. Initializing : Initializes subplots with a shared x-axis and specified figure size of (10,15)inches.\n",
    "2. Histograms: Plots histograms for 'Excellent', 'Average', and 'Poor' review percentages in green, yellow, and red, respectively.\n",
    "3. Labels and Grid: Adds titles, y-axis labels, x-axis label (for the last plot), and grids to the histograms.\n",
    "4. Display: Shows the plots.\n",
    "\n",
    "This will provide a visual distribution of the different review percentages.\n"
   ]
  },
  {
   "cell_type": "code",
   "execution_count": 40,
   "metadata": {},
   "outputs": [
    {
     "data": {
      "image/png": "[encoded data removed]",
      "text/plain": [
       "<Figure size 1000x1500 with 3 Axes>"
      ]
     },
     "metadata": {},
     "output_type": "display_data"
    }
   ],
   "source": [
    "fig, axs = plt.subplots(3, 1, figsize=(10, 15), sharex=True)\n",
    "\n",
    "# Excellent Review Percentage Histogram\n",
    "axs[0].hist(medDataSet['exc_review_per'], bins=5, color='green', edgecolor='black', alpha=0.7)\n",
    "axs[0].set_title('Distribution of Excellent Review %')\n",
    "axs[0].set_ylabel('Frequency')\n",
    "axs[0].grid(axis='y', linestyle='--')\n",
    "\n",
    "# Average Review Percentage Histogram\n",
    "axs[1].hist(medDataSet['avg_review_per'], bins=5, color='yellow', edgecolor='black', alpha=0.7)\n",
    "axs[1].set_title('Distribution of Average Review %')\n",
    "axs[1].set_ylabel('Frequency')\n",
    "axs[1].grid(axis='y', linestyle='--')\n",
    "\n",
    "# Poor Review Percentage Histogram\n",
    "axs[2].hist(medDataSet['poor_review_per'], bins=5, color='red', edgecolor='black', alpha=0.7)\n",
    "axs[2].set_title('Distribution of Poor Review %')\n",
    "axs[2].set_xlabel('Review Percentage')\n",
    "axs[2].set_ylabel('Frequency')\n",
    "axs[2].grid(axis='y', linestyle='--')\n",
    "\n",
    "plt.show()\n",
    "\n"
   ]
  },
  {
   "cell_type": "markdown",
   "metadata": {},
   "source": [
    "Observations:\n",
    "\n",
    "Histograms provides a detailed breakdown of the distribution of review percentages for medicines, categorized into three types: Excellent, Average, and Poor. Each histogram represents the frequency of medicines within specific review percentage ranges. \n",
    "\n",
    "1. Distribution of Excellent Review %:\n",
    "\n",
    "* Color: Green\n",
    "* X-Axis: Review Percentage (ranging from 0% to 100%)\n",
    "* Y-Axis: Frequency (number of medicines)\n",
    "* The highest frequency of medicines falls within the 20-40% excellent review range, with frequencies reaching around 4000.\n",
    "* There is a significant drop in frequency for medicines with excellent review percentages above 40%.\n",
    "* Very few medicines have excellent review percentages above 80%.\n",
    "* The distribution is right-skewed.\n",
    "\n",
    "2. Distribution of Average Review %:\n",
    "\n",
    "* Color: Yellow\n",
    "* X-Axis: Review Percentage (ranging from 0% to 100%)\n",
    "* Y-Axis: Frequency (number of medicines)\n",
    "* The highest frequency of medicines falls within the 20-40% average review range, with frequencies reaching around 4000.\n",
    "* Similar to the excellent reviews, there is a significant drop in frequency for medicines with average review percentages above 40%.\n",
    "* Very few medicines have average review percentages above 60%.\n",
    "* The distribution is also right-skewed.\n",
    "\n",
    "3. Distribution of Poor Review %:\n",
    "\n",
    "* Color: Red\n",
    "* X-Axis: Review Percentage (ranging from 0% to 100%)\n",
    "* Y-Axis: Frequency (number of medicines)\n",
    "* The highest frequency of medicines falls within the 0-20% poor review range, with frequencies reaching around 5000.\n",
    "* There is a significant drop in frequency for medicines with poor review percentages above 20%.\n",
    "* Very few medicines have poor review percentages above 60%.\n",
    "* The distribution is left-skewed.\n",
    "\n",
    "4. Review Distribution:\n",
    "\n",
    "* Most medicines tend to have a higher frequency of poor reviews (0-20%) and lower frequencies of excellent and average reviews (20-40%).\n",
    "* There is a noticeable skew in the distributions, with excellent and average reviews being right-skewed and poor reviews being left-skewed.\n",
    "* Medicines with very high excellent or average review percentages are rare.\n",
    "* Medicines with very high poor review percentages are also rare but slightly more frequent than those with very high excellent or average review percentages.\n"
   ]
  },
  {
   "cell_type": "markdown",
   "metadata": {},
   "source": []
  },
  {
   "cell_type": "markdown",
   "metadata": {},
   "source": [
    "### Correlation Matrix"
   ]
  },
  {
   "cell_type": "markdown",
   "metadata": {},
   "source": [
    "##### Using \"corr()\"to calculates the pairwise correlation coefficients between the columns ('exc_review_per', 'avg_review_per', 'poor_review_per'). \n",
    "\n",
    "Here we are tying to understanding relationships between variables!"
   ]
  },
  {
   "cell_type": "code",
   "execution_count": 6,
   "metadata": {},
   "outputs": [
    {
     "name": "stdout",
     "output_type": "stream",
     "text": [
      "                 exc_review_per  avg_review_per  poor_review_per\n",
      "exc_review_per         1.000000       -0.427963        -0.725545\n",
      "avg_review_per        -0.427963        1.000000        -0.311464\n",
      "poor_review_per       -0.725545       -0.311464         1.000000\n"
     ]
    }
   ],
   "source": [
    "correlation_matrix = medDataSet[['exc_review_per', 'avg_review_per', 'poor_review_per']].corr()\n",
    "print(correlation_matrix)"
   ]
  },
  {
   "cell_type": "code",
   "execution_count": 7,
   "metadata": {},
   "outputs": [
    {
     "data": {
      "image/png": "[encoded data removed]",
      "text/plain": [
       "<Figure size 640x480 with 2 Axes>"
      ]
     },
     "metadata": {},
     "output_type": "display_data"
    }
   ],
   "source": [
    "sns.heatmap(correlation_matrix, annot=True, cmap='coolwarm', center=0)\n",
    "plt.title('Correlation Matrix')\n",
    "plt.show()\n"
   ]
  },
  {
   "cell_type": "markdown",
   "metadata": {},
   "source": [
    "Observation :\n",
    "\n",
    "Colour Scale: \n",
    "The color scale on the right ranges from -1 to 1, \n",
    "\n",
    "where:\n",
    "* Red indicates a positive correlation (values close to 1).\n",
    "* Blue indicates a negative correlation (values close to -1).\n",
    "* White/Light colors indicate no or weak correlation (values close to 0).\n",
    "\n",
    "\n",
    "1.Excellent Review and Average Review: \n",
    "\n",
    "* The correlation is -0.428, indicating a negative correlation. When the percentage of excellent reviews increases, the percentage of average reviews tends to decrease ,  and vice versa..\n",
    "\n",
    "\n",
    "2.Excellent Review and Poor Review: \n",
    "\n",
    "* The correlation is -0.726, indicating a strong negative correlation. As the percentage of excellent reviews increases, the percentage of poor reviews tends to decrease significantly , and vice versa..\n",
    "\n",
    "\n",
    "3.Average Review and Poor Review: \n",
    "\n",
    "* The correlation is -0.311, indicating a weak negative correlation. When the percentage of average reviews increases, the percentage of poor reviews slightly tends to decrease , and vice versa..\n"
   ]
  },
  {
   "cell_type": "markdown",
   "metadata": {},
   "source": []
  },
  {
   "cell_type": "markdown",
   "metadata": {},
   "source": [
    "#### An insight into \"Uses\" column"
   ]
  },
  {
   "cell_type": "code",
   "execution_count": 68,
   "metadata": {},
   "outputs": [
    {
     "data": {
      "text/plain": [
       "0     Cancer of colon and rectum Non-small cell lun...\n",
       "1                    Treatment of Bacterial infections\n",
       "2                    Treatment of Bacterial infections\n",
       "3                        Treatment of Cough with mucus\n",
       "4    Treatment of Gastroesophageal reflux disease (...\n",
       "Name: Uses, dtype: object"
      ]
     },
     "execution_count": 68,
     "metadata": {},
     "output_type": "execute_result"
    }
   ],
   "source": [
    "medDataSet['Uses'].head()  "
   ]
  },
  {
   "cell_type": "markdown",
   "metadata": {},
   "source": [
    "As we can see the column has a repeated word \"Treatment of\" which is of no use for our objective also while applying the cosine similarity this word can make the model to wrongly predict the medicines. "
   ]
  },
  {
   "cell_type": "markdown",
   "metadata": {},
   "source": [
    "."
   ]
  },
  {
   "cell_type": "markdown",
   "metadata": {},
   "source": []
  },
  {
   "cell_type": "markdown",
   "metadata": {},
   "source": [
    "### replace()"
   ]
  },
  {
   "cell_type": "markdown",
   "metadata": {},
   "source": [
    "##### Using \"replace()\" to substitute specific values in a DataFrame. "
   ]
  },
  {
   "cell_type": "code",
   "execution_count": 7,
   "metadata": {},
   "outputs": [],
   "source": [
    "medDataSet['Uses'] = medDataSet['Uses'].str.replace(r'Treatment of', '', case=False, regex=True) "
   ]
  },
  {
   "cell_type": "code",
   "execution_count": 8,
   "metadata": {},
   "outputs": [
    {
     "data": {
      "text/plain": [
       "0     Cancer of colon and rectum Non-small cell lun...\n",
       "1                                 Bacterial infections\n",
       "2                                 Bacterial infections\n",
       "3                                     Cough with mucus\n",
       "4     Gastroesophageal reflux disease (Acid reflux)...\n",
       "Name: Uses, dtype: object"
      ]
     },
     "execution_count": 8,
     "metadata": {},
     "output_type": "execute_result"
    }
   ],
   "source": [
    "medDataSet['Uses'].head()"
   ]
  },
  {
   "cell_type": "markdown",
   "metadata": {},
   "source": [
    "We have successfully replaced the word \"Treatment of\" with \"\" <-- empty string. "
   ]
  },
  {
   "cell_type": "markdown",
   "metadata": {},
   "source": []
  },
  {
   "cell_type": "markdown",
   "metadata": {},
   "source": [
    "### Assigning Weight "
   ]
  },
  {
   "cell_type": "markdown",
   "metadata": {},
   "source": [
    "In our dataset the review columns are in percentage format and to take advantage of such a crucial information from which we can curate the cosine similarity results and also display the ratings for the products could be very beneficial.\n",
    "\n",
    "To achieve this , here I am assigning weightage to these review columns. Starting by excellent to be 3 followed by average to be 2 and at last poor to be 1.\n",
    "\n",
    "The main reason or lets say purpose of assigning the weightage to these columns is that doing calculations might not be very convenient for each review columns (excellent , average and poor) and also the distribution of percentage reviews are quite choatic as we can see and this could make confusions moving ahead.\n",
    "\n",
    "What does the weightage will do is that it will make a quantification and prioritize the relative importance or impact of each category. This will also give one particular range for all the different categories. This formula definitely works well for this dataset but one can surely make changes as per needs.\n",
    "\n",
    "Higher weights are assigned to \"Excellent\" (3), then \"Average\" (2), and \"Poor\" (1) to prioritize higher review ratings. The specific weights can be adjusted based on the context and desired analysis.\n",
    "\n",
    "We can also prioritize \"Poor\" reviews higher, which could assign \"Poor\" as 3, \"Average\" as 2, and \"Excellent\" as 1. It all depends on what aspect we want to emphasize in our analysis.\n",
    "\n",
    "Hence, moving ahead with \"'Excellent': 3, 'Average': 2, 'Poor': 1\" weightage as this will prioritize excellent values higher.\n"
   ]
  },
  {
   "cell_type": "code",
   "execution_count": 9,
   "metadata": {},
   "outputs": [],
   "source": [
    "# Assign weights \n",
    "weights = {'Excellent': 3, 'Average': 2, 'Poor': 1 }"
   ]
  },
  {
   "cell_type": "markdown",
   "metadata": {},
   "source": [
    "##### Here , I have multiplied the weights with each review columns and added them up than divided with the total of review column. Stored the results in a new column named \"score\""
   ]
  },
  {
   "cell_type": "code",
   "execution_count": 10,
   "metadata": {},
   "outputs": [],
   "source": [
    "medDataSet[\"score\"] = (medDataSet[\"exc_review_per\"]*weights[\"Excellent\"] +\n",
    "                      medDataSet[\"avg_review_per\"]*weights[\"Average\"] +\n",
    "                      medDataSet[\"poor_review_per\"]*weights[\"Poor\"] \n",
    "                      ) / (\n",
    "                          medDataSet[\"exc_review_per\"] + \n",
    "                          medDataSet[\"avg_review_per\"] +\n",
    "                          medDataSet[\"poor_review_per\"]\n",
    "                      )"
   ]
  },
  {
   "cell_type": "code",
   "execution_count": 11,
   "metadata": {},
   "outputs": [
    {
     "data": {
      "text/plain": [
       "0    2.00\n",
       "1    2.29\n",
       "2    2.18\n",
       "3    1.89\n",
       "4    2.05\n",
       "Name: score, dtype: float64"
      ]
     },
     "execution_count": 11,
     "metadata": {},
     "output_type": "execute_result"
    }
   ],
   "source": [
    "medDataSet[\"score\"].head()"
   ]
  },
  {
   "cell_type": "markdown",
   "metadata": {},
   "source": [
    "Finally we got \"score\" column containing review scores ranging from 3 to 1. Where 3 is the highest excellent ratings and 1 is the lowest poor ratings for the medicine. The more the score leans towards 3 the more excellent review it is for the medicine."
   ]
  },
  {
   "cell_type": "markdown",
   "metadata": {},
   "source": []
  },
  {
   "cell_type": "markdown",
   "metadata": {},
   "source": [
    "### Histogram"
   ]
  },
  {
   "cell_type": "markdown",
   "metadata": {},
   "source": [
    "##### Using \"hist\" to plot histogram graph for the column \"score\""
   ]
  },
  {
   "cell_type": "code",
   "execution_count": 104,
   "metadata": {},
   "outputs": [
    {
     "data": {
      "image/png": "[encoded data removed]",
      "text/plain": [
       "<Figure size 1000x600 with 1 Axes>"
      ]
     },
     "metadata": {},
     "output_type": "display_data"
    }
   ],
   "source": [
    "# Plotting Histogram\n",
    "plt.figure(figsize=(10, 6))\n",
    "plt.hist(medDataSet[\"score\"], bins=10, color='blue', alpha=0.7)\n",
    "plt.title('Histogram of Scores')\n",
    "plt.xlabel('Score')\n",
    "plt.ylabel('Frequency')\n",
    "plt.grid(True)\n",
    "plt.show()"
   ]
  },
  {
   "cell_type": "markdown",
   "metadata": {},
   "source": [
    "Obervations: \n",
    "\n",
    "X-Axis (Horizontal Axis): Represents the score values, ranging from 1.00 to 3.00.\n",
    "\n",
    "Y-Axis (Vertical Axis): Represents the frequency, or the number of occurrences, of each score range.\n",
    "\n",
    "1. Frequency Distribution:\n",
    "\n",
    "* The highest frequency of scores is in the range of approximately 2.00 to 2.25, with frequencies reaching around 2800.\n",
    "* The frequency decreases as the score moves away from the peak in both directions (towards lower and higher scores).\n",
    "\n",
    "2. Skewness:\n",
    "\n",
    "* The distribution appears to be slightly right-skewed (positively skewed), as the tail on the right side of the peak is longer than the tail on the left side.\n",
    "* This indicates that while most scores are concentrated around the peak, there are more scores extending towards the higher end (closer to 3.00) than the lower end (closer to 1.00). This indicates that the there are more excellent reviewed medicines.\n",
    "* There are very few scores in the lowest range (around 1.00 to 1.60) and the highest range (around 2.75 to 3.00), indicating there are more medicine products with excellent reviews between (2.75 to 3,00) whereas there are very less medicine product with poor reviewed raning from (1.00 to 1.60).\n",
    "\n",
    "3. Central Tendency:\n",
    "\n",
    "* The peak around the score of 2.00 suggests that this is the most common score, indicating a central tendency around this value.\n",
    "* This could imply that the majority of the scores are average, with fewer scores being exceptionally high or low.\n",
    "\n",
    "4. Variability:\n",
    "* The spread of the scores from 1.00 to 3.00 indicates variability in the data.\n",
    "* The right-skewed distribution suggests that while most scores are average, there is a wider range of higher scores compared to lower scores.\n",
    "\n",
    "\n"
   ]
  },
  {
   "cell_type": "markdown",
   "metadata": {},
   "source": []
  },
  {
   "cell_type": "markdown",
   "metadata": {},
   "source": [
    "### Bar Graph"
   ]
  },
  {
   "cell_type": "markdown",
   "metadata": {},
   "source": [
    "##### Using 'bar' graph to plot graphical representation of score column\n",
    "\n",
    "\n",
    "Initialization: Initializes a figure with a size of 10x6 inches.\n",
    "\n",
    "Data Plotting: Counts unique values in the score column, sorts them, and plots a bar chart in red with 70% opacity.\n",
    "\n",
    "Title and Labels: Adds a title \"Bar Plot of Scores,\" labels for the x-axis (Score) and y-axis (Count).\n",
    "\n",
    "X-Ticks: Sets x-ticks at intervals of 3 for better readability.\n",
    "\n",
    "Grid: Adds a grid to the plot for better visualization.\n",
    "\n",
    "Display: Plots the bar graph.\n"
   ]
  },
  {
   "cell_type": "code",
   "execution_count": 127,
   "metadata": {},
   "outputs": [
    {
     "data": {
      "image/png": "[encoded data removed]",
      "text/plain": [
       "<Figure size 1000x600 with 1 Axes>"
      ]
     },
     "metadata": {},
     "output_type": "display_data"
    }
   ],
   "source": [
    "# Plotting Bar Plot\n",
    "plt.figure(figsize=(10, 6))\n",
    "medDataSet[\"score\"].value_counts().sort_index().plot(kind='bar', color='red', alpha=0.7)\n",
    "plt.title('Bar Plot of Scores')\n",
    "plt.xlabel('Score')\n",
    "plt.ylabel('Count')\n",
    "plt.xticks(range(0,len(medDataSet[\"score\"].unique()),3))\n",
    "plt.grid(True)\n",
    "plt.show()\n"
   ]
  },
  {
   "cell_type": "markdown",
   "metadata": {},
   "source": [
    "Observations: \n",
    "\n",
    "X-Axis (Horizontal): \"Score\":\n",
    "The x-axis represents the different score values. The scores range from 1.0 to 3.0, \n",
    "\n",
    "Y-Axis (Vertical): \"Count\"\n",
    "The y-axis represents the count or frequency of each score. The counts range from 0 to 900.\n"
   ]
  },
  {
   "cell_type": "markdown",
   "metadata": {},
   "source": []
  },
  {
   "cell_type": "markdown",
   "metadata": {},
   "source": [
    "### Boxplot "
   ]
  },
  {
   "cell_type": "markdown",
   "metadata": {},
   "source": [
    "##### Using \"boxplot\" to plot a boxplot to visualize the \"score\" column "
   ]
  },
  {
   "cell_type": "code",
   "execution_count": 134,
   "metadata": {},
   "outputs": [
    {
     "data": {
      "image/png": "[encoded data removed]",
      "text/plain": [
       "<Figure size 1000x600 with 1 Axes>"
      ]
     },
     "metadata": {},
     "output_type": "display_data"
    }
   ],
   "source": [
    "plt.figure(figsize=(10, 6))\n",
    "sns.boxplot(x=medDataSet[\"score\"])\n",
    "plt.title('Box Plot of Scores')\n",
    "plt.show() \n"
   ]
  },
  {
   "cell_type": "markdown",
   "metadata": {},
   "source": [
    "Observations: \n",
    "\n",
    "X-Axis (Horizontal): \"score\":\n",
    "The x-axis represents the range of score values. The scores range from 1.00 to 3.00.\n",
    "\n",
    "1.Interquartile Range (IQR):\n",
    "* The left edge of the box (around 1.85) represents the first quartile (Q1), which is the 25th percentile of the data.\n",
    "* The right edge of the box (around 2.45) represents the third quartile (Q3), which is the 75th percentile of the data.\n",
    "* The width of the box indicates the spread of the middle 50% of the scores.\n",
    "* The interquartile range (IQR) is from approximately 1.85 to 2.45, indicating that the middle 50% of the scores fall within this range.\n",
    "\n",
    "2.Outliers:\n",
    "* There is one outlier with a score of approximately 1.00.\n",
    "\n",
    "3.Central Tendency:\n",
    "* The median score is around 2.20, indicating that half of the scores are below 2.20 and half are above 2.20.\n",
    "\n",
    "4.Skewness:\n",
    "* The box plot suggests a slight left skew (negative skew) because the left whisker is longer than the right whisker, and the median is closer to the left edge of the box.\n",
    "* This indicates that there are more lower scores pulling the distribution to the left.\n",
    "\n"
   ]
  },
  {
   "cell_type": "markdown",
   "metadata": {},
   "source": []
  },
  {
   "cell_type": "markdown",
   "metadata": {},
   "source": [
    "### Creating a Set of Stopwords\n",
    "\n",
    "creates a set of common English stop words that are often removed during text processing to focus on more meaningful words."
   ]
  },
  {
   "cell_type": "code",
   "execution_count": 12,
   "metadata": {},
   "outputs": [],
   "source": [
    "STOPWORDS = set(stopwords.words('english'))"
   ]
  },
  {
   "cell_type": "markdown",
   "metadata": {},
   "source": [
    "### Stemming Function\n",
    "\n",
    "1. Initializes a PorterStemmer.\n",
    "\n",
    "2. Loops throught the given input.\n",
    "\n",
    "3. Cleans the text by removing non-alphabet characters using Regular Expression.\n",
    "\n",
    "4. Converts the text to lowercase and splits it into words.\n",
    "\n",
    "5. Removes stopwords and stems the remaining words.\n",
    "\n",
    "6. Joins the processed words back into a single string."
   ]
  },
  {
   "cell_type": "code",
   "execution_count": 13,
   "metadata": {},
   "outputs": [],
   "source": [
    "def stem(text):\n",
    "  stemmer = PorterStemmer()\n",
    "  for i in range(0, len(text)):\n",
    "    review = re.sub('[^a-zA-Z]', ' ', text)\n",
    "    review = review.lower().split()\n",
    "    review = [stemmer.stem(word) for word in review if not word in STOPWORDS]\n",
    "    return ' '.join(review)"
   ]
  },
  {
   "cell_type": "markdown",
   "metadata": {},
   "source": [
    "### Applying Stemming Function\n",
    "\n",
    "Applying stem function to each entry in the 'Uses' column and stores the results in a new column named 'tags'. It's used for text preprocessing."
   ]
  },
  {
   "cell_type": "code",
   "execution_count": 74,
   "metadata": {},
   "outputs": [],
   "source": [
    "medDataSet['tags'] = medDataSet['Uses'].apply(stem) "
   ]
  },
  {
   "cell_type": "code",
   "execution_count": 75,
   "metadata": {},
   "outputs": [
    {
     "data": {
      "text/plain": [
       "0    cancer colon rectum non small cell lung cancer...\n",
       "1                                       bacteri infect\n",
       "2                                       bacteri infect\n",
       "3                                           cough mucu\n",
       "4    gastroesophag reflux diseas acid reflux peptic...\n",
       "Name: tags, dtype: object"
      ]
     },
     "execution_count": 75,
     "metadata": {},
     "output_type": "execute_result"
    }
   ],
   "source": [
    "medDataSet['tags'].head() "
   ]
  },
  {
   "cell_type": "markdown",
   "metadata": {},
   "source": [
    "."
   ]
  },
  {
   "cell_type": "markdown",
   "metadata": {},
   "source": [
    "### TfidfVectorizer\n",
    "\n",
    "TfidfVectorizer is used to convert text data into numerical features based on Term Frequency-Inverse Document Frequency. It's useful for analyzing the importance of words in documents.\n",
    "\n",
    "In the below code creating a TF-IDF Vectorizer with a maximum of 5,000 features. It's used to transform text data into numerical features based on Term Frequency-Inverse Document Frequency, focusing on the most important terms."
   ]
  },
  {
   "cell_type": "code",
   "execution_count": 76,
   "metadata": {},
   "outputs": [],
   "source": [
    "tfIDF = TfidfVectorizer(max_features=5000) "
   ]
  },
  {
   "cell_type": "code",
   "execution_count": 81,
   "metadata": {},
   "outputs": [
    {
     "data": {
      "text/html": [
       "<style>#sk-container-id-2 {\n",
       "  /* Definition of color scheme common for light and dark mode */\n",
       "  --sklearn-color-text: #000;\n",
       "  --sklearn-color-text-muted: #666;\n",
       "  --sklearn-color-line: gray;\n",
       "  /* Definition of color scheme for unfitted estimators */\n",
       "  --sklearn-color-unfitted-level-0: #fff5e6;\n",
       "  --sklearn-color-unfitted-level-1: #f6e4d2;\n",
       "  --sklearn-color-unfitted-level-2: #ffe0b3;\n",
       "  --sklearn-color-unfitted-level-3: chocolate;\n",
       "  /* Definition of color scheme for fitted estimators */\n",
       "  --sklearn-color-fitted-level-0: #f0f8ff;\n",
       "  --sklearn-color-fitted-level-1: #d4ebff;\n",
       "  --sklearn-color-fitted-level-2: #b3dbfd;\n",
       "  --sklearn-color-fitted-level-3: cornflowerblue;\n",
       "\n",
       "  /* Specific color for light theme */\n",
       "  --sklearn-color-text-on-default-background: var(--sg-text-color, var(--theme-code-foreground, var(--jp-content-font-color1, black)));\n",
       "  --sklearn-color-background: var(--sg-background-color, var(--theme-background, var(--jp-layout-color0, white)));\n",
       "  --sklearn-color-border-box: var(--sg-text-color, var(--theme-code-foreground, var(--jp-content-font-color1, black)));\n",
       "  --sklearn-color-icon: #696969;\n",
       "\n",
       "  @media (prefers-color-scheme: dark) {\n",
       "    /* Redefinition of color scheme for dark theme */\n",
       "    --sklearn-color-text-on-default-background: var(--sg-text-color, var(--theme-code-foreground, var(--jp-content-font-color1, white)));\n",
       "    --sklearn-color-background: var(--sg-background-color, var(--theme-background, var(--jp-layout-color0, #111)));\n",
       "    --sklearn-color-border-box: var(--sg-text-color, var(--theme-code-foreground, var(--jp-content-font-color1, white)));\n",
       "    --sklearn-color-icon: #878787;\n",
       "  }\n",
       "}\n",
       "\n",
       "#sk-container-id-2 {\n",
       "  color: var(--sklearn-color-text);\n",
       "}\n",
       "\n",
       "#sk-container-id-2 pre {\n",
       "  padding: 0;\n",
       "}\n",
       "\n",
       "#sk-container-id-2 input.sk-hidden--visually {\n",
       "  border: 0;\n",
       "  clip: rect(1px 1px 1px 1px);\n",
       "  clip: rect(1px, 1px, 1px, 1px);\n",
       "  height: 1px;\n",
       "  margin: -1px;\n",
       "  overflow: hidden;\n",
       "  padding: 0;\n",
       "  position: absolute;\n",
       "  width: 1px;\n",
       "}\n",
       "\n",
       "#sk-container-id-2 div.sk-dashed-wrapped {\n",
       "  border: 1px dashed var(--sklearn-color-line);\n",
       "  margin: 0 0.4em 0.5em 0.4em;\n",
       "  box-sizing: border-box;\n",
       "  padding-bottom: 0.4em;\n",
       "  background-color: var(--sklearn-color-background);\n",
       "}\n",
       "\n",
       "#sk-container-id-2 div.sk-container {\n",
       "  /* jupyter's `normalize.less` sets `[hidden] { display: none; }`\n",
       "     but bootstrap.min.css set `[hidden] { display: none !important; }`\n",
       "     so we also need the `!important` here to be able to override the\n",
       "     default hidden behavior on the sphinx rendered scikit-learn.org.\n",
       "     See: https://github.com/scikit-learn/scikit-learn/issues/21755 */\n",
       "  display: inline-block !important;\n",
       "  position: relative;\n",
       "}\n",
       "\n",
       "#sk-container-id-2 div.sk-text-repr-fallback {\n",
       "  display: none;\n",
       "}\n",
       "\n",
       "div.sk-parallel-item,\n",
       "div.sk-serial,\n",
       "div.sk-item {\n",
       "  /* draw centered vertical line to link estimators */\n",
       "  background-image: linear-gradient(var(--sklearn-color-text-on-default-background), var(--sklearn-color-text-on-default-background));\n",
       "  background-size: 2px 100%;\n",
       "  background-repeat: no-repeat;\n",
       "  background-position: center center;\n",
       "}\n",
       "\n",
       "/* Parallel-specific style estimator block */\n",
       "\n",
       "#sk-container-id-2 div.sk-parallel-item::after {\n",
       "  content: \"\";\n",
       "  width: 100%;\n",
       "  border-bottom: 2px solid var(--sklearn-color-text-on-default-background);\n",
       "  flex-grow: 1;\n",
       "}\n",
       "\n",
       "#sk-container-id-2 div.sk-parallel {\n",
       "  display: flex;\n",
       "  align-items: stretch;\n",
       "  justify-content: center;\n",
       "  background-color: var(--sklearn-color-background);\n",
       "  position: relative;\n",
       "}\n",
       "\n",
       "#sk-container-id-2 div.sk-parallel-item {\n",
       "  display: flex;\n",
       "  flex-direction: column;\n",
       "}\n",
       "\n",
       "#sk-container-id-2 div.sk-parallel-item:first-child::after {\n",
       "  align-self: flex-end;\n",
       "  width: 50%;\n",
       "}\n",
       "\n",
       "#sk-container-id-2 div.sk-parallel-item:last-child::after {\n",
       "  align-self: flex-start;\n",
       "  width: 50%;\n",
       "}\n",
       "\n",
       "#sk-container-id-2 div.sk-parallel-item:only-child::after {\n",
       "  width: 0;\n",
       "}\n",
       "\n",
       "/* Serial-specific style estimator block */\n",
       "\n",
       "#sk-container-id-2 div.sk-serial {\n",
       "  display: flex;\n",
       "  flex-direction: column;\n",
       "  align-items: center;\n",
       "  background-color: var(--sklearn-color-background);\n",
       "  padding-right: 1em;\n",
       "  padding-left: 1em;\n",
       "}\n",
       "\n",
       "\n",
       "/* Toggleable style: style used for estimator/Pipeline/ColumnTransformer box that is\n",
       "clickable and can be expanded/collapsed.\n",
       "- Pipeline and ColumnTransformer use this feature and define the default style\n",
       "- Estimators will overwrite some part of the style using the `sk-estimator` class\n",
       "*/\n",
       "\n",
       "/* Pipeline and ColumnTransformer style (default) */\n",
       "\n",
       "#sk-container-id-2 div.sk-toggleable {\n",
       "  /* Default theme specific background. It is overwritten whether we have a\n",
       "  specific estimator or a Pipeline/ColumnTransformer */\n",
       "  background-color: var(--sklearn-color-background);\n",
       "}\n",
       "\n",
       "/* Toggleable label */\n",
       "#sk-container-id-2 label.sk-toggleable__label {\n",
       "  cursor: pointer;\n",
       "  display: flex;\n",
       "  width: 100%;\n",
       "  margin-bottom: 0;\n",
       "  padding: 0.5em;\n",
       "  box-sizing: border-box;\n",
       "  text-align: center;\n",
       "  align-items: start;\n",
       "  justify-content: space-between;\n",
       "  gap: 0.5em;\n",
       "}\n",
       "\n",
       "#sk-container-id-2 label.sk-toggleable__label .caption {\n",
       "  font-size: 0.6rem;\n",
       "  font-weight: lighter;\n",
       "  color: var(--sklearn-color-text-muted);\n",
       "}\n",
       "\n",
       "#sk-container-id-2 label.sk-toggleable__label-arrow:before {\n",
       "  /* Arrow on the left of the label */\n",
       "  content: \"▸\";\n",
       "  float: left;\n",
       "  margin-right: 0.25em;\n",
       "  color: var(--sklearn-color-icon);\n",
       "}\n",
       "\n",
       "#sk-container-id-2 label.sk-toggleable__label-arrow:hover:before {\n",
       "  color: var(--sklearn-color-text);\n",
       "}\n",
       "\n",
       "/* Toggleable content - dropdown */\n",
       "\n",
       "#sk-container-id-2 div.sk-toggleable__content {\n",
       "  max-height: 0;\n",
       "  max-width: 0;\n",
       "  overflow: hidden;\n",
       "  text-align: left;\n",
       "  /* unfitted */\n",
       "  background-color: var(--sklearn-color-unfitted-level-0);\n",
       "}\n",
       "\n",
       "#sk-container-id-2 div.sk-toggleable__content.fitted {\n",
       "  /* fitted */\n",
       "  background-color: var(--sklearn-color-fitted-level-0);\n",
       "}\n",
       "\n",
       "#sk-container-id-2 div.sk-toggleable__content pre {\n",
       "  margin: 0.2em;\n",
       "  border-radius: 0.25em;\n",
       "  color: var(--sklearn-color-text);\n",
       "  /* unfitted */\n",
       "  background-color: var(--sklearn-color-unfitted-level-0);\n",
       "}\n",
       "\n",
       "#sk-container-id-2 div.sk-toggleable__content.fitted pre {\n",
       "  /* unfitted */\n",
       "  background-color: var(--sklearn-color-fitted-level-0);\n",
       "}\n",
       "\n",
       "#sk-container-id-2 input.sk-toggleable__control:checked~div.sk-toggleable__content {\n",
       "  /* Expand drop-down */\n",
       "  max-height: 200px;\n",
       "  max-width: 100%;\n",
       "  overflow: auto;\n",
       "}\n",
       "\n",
       "#sk-container-id-2 input.sk-toggleable__control:checked~label.sk-toggleable__label-arrow:before {\n",
       "  content: \"▾\";\n",
       "}\n",
       "\n",
       "/* Pipeline/ColumnTransformer-specific style */\n",
       "\n",
       "#sk-container-id-2 div.sk-label input.sk-toggleable__control:checked~label.sk-toggleable__label {\n",
       "  color: var(--sklearn-color-text);\n",
       "  background-color: var(--sklearn-color-unfitted-level-2);\n",
       "}\n",
       "\n",
       "#sk-container-id-2 div.sk-label.fitted input.sk-toggleable__control:checked~label.sk-toggleable__label {\n",
       "  background-color: var(--sklearn-color-fitted-level-2);\n",
       "}\n",
       "\n",
       "/* Estimator-specific style */\n",
       "\n",
       "/* Colorize estimator box */\n",
       "#sk-container-id-2 div.sk-estimator input.sk-toggleable__control:checked~label.sk-toggleable__label {\n",
       "  /* unfitted */\n",
       "  background-color: var(--sklearn-color-unfitted-level-2);\n",
       "}\n",
       "\n",
       "#sk-container-id-2 div.sk-estimator.fitted input.sk-toggleable__control:checked~label.sk-toggleable__label {\n",
       "  /* fitted */\n",
       "  background-color: var(--sklearn-color-fitted-level-2);\n",
       "}\n",
       "\n",
       "#sk-container-id-2 div.sk-label label.sk-toggleable__label,\n",
       "#sk-container-id-2 div.sk-label label {\n",
       "  /* The background is the default theme color */\n",
       "  color: var(--sklearn-color-text-on-default-background);\n",
       "}\n",
       "\n",
       "/* On hover, darken the color of the background */\n",
       "#sk-container-id-2 div.sk-label:hover label.sk-toggleable__label {\n",
       "  color: var(--sklearn-color-text);\n",
       "  background-color: var(--sklearn-color-unfitted-level-2);\n",
       "}\n",
       "\n",
       "/* Label box, darken color on hover, fitted */\n",
       "#sk-container-id-2 div.sk-label.fitted:hover label.sk-toggleable__label.fitted {\n",
       "  color: var(--sklearn-color-text);\n",
       "  background-color: var(--sklearn-color-fitted-level-2);\n",
       "}\n",
       "\n",
       "/* Estimator label */\n",
       "\n",
       "#sk-container-id-2 div.sk-label label {\n",
       "  font-family: monospace;\n",
       "  font-weight: bold;\n",
       "  display: inline-block;\n",
       "  line-height: 1.2em;\n",
       "}\n",
       "\n",
       "#sk-container-id-2 div.sk-label-container {\n",
       "  text-align: center;\n",
       "}\n",
       "\n",
       "/* Estimator-specific */\n",
       "#sk-container-id-2 div.sk-estimator {\n",
       "  font-family: monospace;\n",
       "  border: 1px dotted var(--sklearn-color-border-box);\n",
       "  border-radius: 0.25em;\n",
       "  box-sizing: border-box;\n",
       "  margin-bottom: 0.5em;\n",
       "  /* unfitted */\n",
       "  background-color: var(--sklearn-color-unfitted-level-0);\n",
       "}\n",
       "\n",
       "#sk-container-id-2 div.sk-estimator.fitted {\n",
       "  /* fitted */\n",
       "  background-color: var(--sklearn-color-fitted-level-0);\n",
       "}\n",
       "\n",
       "/* on hover */\n",
       "#sk-container-id-2 div.sk-estimator:hover {\n",
       "  /* unfitted */\n",
       "  background-color: var(--sklearn-color-unfitted-level-2);\n",
       "}\n",
       "\n",
       "#sk-container-id-2 div.sk-estimator.fitted:hover {\n",
       "  /* fitted */\n",
       "  background-color: var(--sklearn-color-fitted-level-2);\n",
       "}\n",
       "\n",
       "/* Specification for estimator info (e.g. \"i\" and \"?\") */\n",
       "\n",
       "/* Common style for \"i\" and \"?\" */\n",
       "\n",
       ".sk-estimator-doc-link,\n",
       "a:link.sk-estimator-doc-link,\n",
       "a:visited.sk-estimator-doc-link {\n",
       "  float: right;\n",
       "  font-size: smaller;\n",
       "  line-height: 1em;\n",
       "  font-family: monospace;\n",
       "  background-color: var(--sklearn-color-background);\n",
       "  border-radius: 1em;\n",
       "  height: 1em;\n",
       "  width: 1em;\n",
       "  text-decoration: none !important;\n",
       "  margin-left: 0.5em;\n",
       "  text-align: center;\n",
       "  /* unfitted */\n",
       "  border: var(--sklearn-color-unfitted-level-1) 1pt solid;\n",
       "  color: var(--sklearn-color-unfitted-level-1);\n",
       "}\n",
       "\n",
       ".sk-estimator-doc-link.fitted,\n",
       "a:link.sk-estimator-doc-link.fitted,\n",
       "a:visited.sk-estimator-doc-link.fitted {\n",
       "  /* fitted */\n",
       "  border: var(--sklearn-color-fitted-level-1) 1pt solid;\n",
       "  color: var(--sklearn-color-fitted-level-1);\n",
       "}\n",
       "\n",
       "/* On hover */\n",
       "div.sk-estimator:hover .sk-estimator-doc-link:hover,\n",
       ".sk-estimator-doc-link:hover,\n",
       "div.sk-label-container:hover .sk-estimator-doc-link:hover,\n",
       ".sk-estimator-doc-link:hover {\n",
       "  /* unfitted */\n",
       "  background-color: var(--sklearn-color-unfitted-level-3);\n",
       "  color: var(--sklearn-color-background);\n",
       "  text-decoration: none;\n",
       "}\n",
       "\n",
       "div.sk-estimator.fitted:hover .sk-estimator-doc-link.fitted:hover,\n",
       ".sk-estimator-doc-link.fitted:hover,\n",
       "div.sk-label-container:hover .sk-estimator-doc-link.fitted:hover,\n",
       ".sk-estimator-doc-link.fitted:hover {\n",
       "  /* fitted */\n",
       "  background-color: var(--sklearn-color-fitted-level-3);\n",
       "  color: var(--sklearn-color-background);\n",
       "  text-decoration: none;\n",
       "}\n",
       "\n",
       "/* Span, style for the box shown on hovering the info icon */\n",
       ".sk-estimator-doc-link span {\n",
       "  display: none;\n",
       "  z-index: 9999;\n",
       "  position: relative;\n",
       "  font-weight: normal;\n",
       "  right: .2ex;\n",
       "  padding: .5ex;\n",
       "  margin: .5ex;\n",
       "  width: min-content;\n",
       "  min-width: 20ex;\n",
       "  max-width: 50ex;\n",
       "  color: var(--sklearn-color-text);\n",
       "  box-shadow: 2pt 2pt 4pt #999;\n",
       "  /* unfitted */\n",
       "  background: var(--sklearn-color-unfitted-level-0);\n",
       "  border: .5pt solid var(--sklearn-color-unfitted-level-3);\n",
       "}\n",
       "\n",
       ".sk-estimator-doc-link.fitted span {\n",
       "  /* fitted */\n",
       "  background: var(--sklearn-color-fitted-level-0);\n",
       "  border: var(--sklearn-color-fitted-level-3);\n",
       "}\n",
       "\n",
       ".sk-estimator-doc-link:hover span {\n",
       "  display: block;\n",
       "}\n",
       "\n",
       "/* \"?\"-specific style due to the `<a>` HTML tag */\n",
       "\n",
       "#sk-container-id-2 a.estimator_doc_link {\n",
       "  float: right;\n",
       "  font-size: 1rem;\n",
       "  line-height: 1em;\n",
       "  font-family: monospace;\n",
       "  background-color: var(--sklearn-color-background);\n",
       "  border-radius: 1rem;\n",
       "  height: 1rem;\n",
       "  width: 1rem;\n",
       "  text-decoration: none;\n",
       "  /* unfitted */\n",
       "  color: var(--sklearn-color-unfitted-level-1);\n",
       "  border: var(--sklearn-color-unfitted-level-1) 1pt solid;\n",
       "}\n",
       "\n",
       "#sk-container-id-2 a.estimator_doc_link.fitted {\n",
       "  /* fitted */\n",
       "  border: var(--sklearn-color-fitted-level-1) 1pt solid;\n",
       "  color: var(--sklearn-color-fitted-level-1);\n",
       "}\n",
       "\n",
       "/* On hover */\n",
       "#sk-container-id-2 a.estimator_doc_link:hover {\n",
       "  /* unfitted */\n",
       "  background-color: var(--sklearn-color-unfitted-level-3);\n",
       "  color: var(--sklearn-color-background);\n",
       "  text-decoration: none;\n",
       "}\n",
       "\n",
       "#sk-container-id-2 a.estimator_doc_link.fitted:hover {\n",
       "  /* fitted */\n",
       "  background-color: var(--sklearn-color-fitted-level-3);\n",
       "}\n",
       "</style><div id=\"sk-container-id-2\" class=\"sk-top-container\"><div class=\"sk-text-repr-fallback\"><pre>TfidfVectorizer(max_features=5000)</pre><b>In a Jupyter environment, please rerun this cell to show the HTML representation or trust the notebook. <br />On GitHub, the HTML representation is unable to render, please try loading this page with nbviewer.org.</b></div><div class=\"sk-container\" hidden><div class=\"sk-item\"><div class=\"sk-estimator fitted sk-toggleable\"><input class=\"sk-toggleable__control sk-hidden--visually\" id=\"sk-estimator-id-2\" type=\"checkbox\" checked><label for=\"sk-estimator-id-2\" class=\"sk-toggleable__label fitted sk-toggleable__label-arrow\"><div><div>TfidfVectorizer</div></div><div><a class=\"sk-estimator-doc-link fitted\" rel=\"noreferrer\" target=\"_blank\" href=\"https://scikit-learn.org/1.6/modules/generated/sklearn.feature_extraction.text.TfidfVectorizer.html\">?<span>Documentation for TfidfVectorizer</span></a><span class=\"sk-estimator-doc-link fitted\">i<span>Fitted</span></span></div></label><div class=\"sk-toggleable__content fitted\"><pre>TfidfVectorizer(max_features=5000)</pre></div> </div></div></div></div>"
      ],
      "text/plain": [
       "TfidfVectorizer(max_features=5000)"
      ]
     },
     "execution_count": 81,
     "metadata": {},
     "output_type": "execute_result"
    }
   ],
   "source": [
    "tfIDF"
   ]
  },
  {
   "cell_type": "markdown",
   "metadata": {},
   "source": [
    "### Getting Feature Names\n",
    "\n",
    "Using \"get_feature_names_out()\" to return an array of the feature names (terms) extracted by the TF-IDF Vectorizer. It's useful for understanding which terms are included in the vectorization process."
   ]
  },
  {
   "cell_type": "code",
   "execution_count": 89,
   "metadata": {},
   "outputs": [
    {
     "data": {
      "text/plain": [
       "array(['abdomin', 'abnorm', 'acid', 'acidosi', 'acn', 'acromegali',\n",
       "       'actin', 'acut', 'addict', 'affect', 'age', 'agent', 'al',\n",
       "       'alcohol', 'alkalin', 'allerg', 'allergi', 'alzheim', 'amenorrhea',\n",
       "       'amoebiasi', 'amyotroph', 'anaesthesia', 'anal', 'anemia',\n",
       "       'anesthesia', 'angina', 'angioedema', 'ankylos', 'anovul',\n",
       "       'anxieti', 'aplast', 'appetit', 'area', 'around', 'arrest',\n",
       "       'arrhythmia', 'arrhythmiaprevent', 'arteri', 'arteriosu',\n",
       "       'arthralgia', 'arthriti', 'associ', 'asthma', 'ataxia', 'atop',\n",
       "       'attack', 'attackprevent', 'attacktreat', 'autoimmun', 'bacteri',\n",
       "       'balanc', 'basal', 'bed', 'benign', 'benzodiazepin', 'better',\n",
       "       'biliari', 'bipolar', 'bite', 'bladder', 'bleed', 'bloat', 'block',\n",
       "       'blood', 'bone', 'bowel', 'bradycardia', 'brain', 'breast',\n",
       "       'bronchiti', 'bump', 'burn', 'calcium', 'cancer', 'cancersprevent',\n",
       "       'carcinoid', 'cardiac', 'carnitin', 'caviti', 'cell', 'certain',\n",
       "       'cervic', 'chemic', 'chemotherapi', 'chest', 'chickenpox',\n",
       "       'cholesterol', 'cholesterolprevent', 'chorea', 'chronic',\n",
       "       'cirrhosi', 'claudic', 'clostridium', 'closur', 'clot', 'cognit',\n",
       "       'cold', 'coliti', 'colon', 'common', 'compuls', 'condit',\n",
       "       'congest', 'conjunct', 'constip', 'contracept', 'control', 'copd',\n",
       "       'coronaviru', 'cough', 'count', 'covid', 'cramp', 'crohn',\n",
       "       'cystic', 'cystiti', 'cytomegaloviru', 'dandruff', 'decreas',\n",
       "       'deep', 'defici', 'dehydr', 'deliveri', 'dementia', 'dental',\n",
       "       'depend', 'depress', 'dermat', 'diabet', 'diarrhea', 'difficil',\n",
       "       'dilat', 'diphtheria', 'diphtheriaprevent', 'discharg', 'diseas',\n",
       "       'diseasetreat', 'disord', 'disorderprevent', 'dmd', 'dri', 'drug',\n",
       "       'duchenn', 'ductu', 'due', 'dysenteri', 'dysfunct', 'dyslipidemia',\n",
       "       'dyspepsia', 'dysphor', 'dystonia', 'dystrophi', 'ear', 'earli',\n",
       "       'earwax', 'eczema', 'edema', 'effect', 'ejacul', 'ellison',\n",
       "       'embol', 'emerg', 'enceph', 'encephalopathi', 'endometri',\n",
       "       'endometriosi', 'energi', 'enhanc', 'enzym', 'epilepsi', 'erectil',\n",
       "       'erythematosu', 'esophag', 'examin', 'excess', 'extern', 'eye',\n",
       "       'face', 'facial', 'failur', 'fatigu', 'fatti', 'feel', 'femal',\n",
       "       'fever', 'fibrocyst', 'fibroid', 'fibromyalgia', 'fibrosi',\n",
       "       'fissur', 'flu', 'fluid', 'folic', 'follicular', 'follow', 'foot',\n",
       "       'friedreich', 'function', 'fungal', 'gallbladd', 'gastaut',\n",
       "       'gastroesophag', 'gastroparesi', 'gener', 'genit', 'glaucoma',\n",
       "       'gout', 'graft', 'granulomatosi', 'gravi', 'growth', 'gum',\n",
       "       'haemophilu', 'haemorrhag', 'hair', 'hairi', 'harm', 'hay', 'hbv',\n",
       "       'hcv', 'head', 'headach', 'hear', 'heart', 'heartburn', 'heavi',\n",
       "       'help', 'hepat', 'hereditari', 'herp', 'high', 'hirsut', 'hiv',\n",
       "       'hodgkin', 'hormon', 'hpv', 'huntington', 'hypercalcemia',\n",
       "       'hyperparathyroid', 'hyperpigment', 'hyperplasia', 'hypersensit',\n",
       "       'hypertens', 'hyperthyroid', 'hypoglycemia', 'hypogonad',\n",
       "       'hypotens', 'hypothyroid', 'idiopath', 'ileu', 'immun',\n",
       "       'immunoglobulin', 'improv', 'incis', 'incontin', 'increas',\n",
       "       'indigest', 'induc', 'induct', 'infantil', 'infect', 'infecti',\n",
       "       'infectionprevent', 'infertil', 'inflamm', 'inflammatori',\n",
       "       'influenza', 'injuri', 'insipidu', 'insomnia', 'intermitt',\n",
       "       'interstiti', 'intestin', 'iron', 'irrit', 'itch', 'itchingtreat',\n",
       "       'itp', 'japanes', 'jet', 'joint', 'keratosi', 'kidney', 'labiali',\n",
       "       'labor', 'labour', 'lag', 'later', 'leber', 'leg', 'leishmaniasi',\n",
       "       'lennox', 'lepra', 'leprosi', 'leukaemia', 'leukemia', 'level',\n",
       "       'lichen', 'liver', 'local', 'loss', 'low', 'lung', 'lupu',\n",
       "       'lymphedema', 'lymphocyt', 'lymphoma', 'magnesium', 'malaria',\n",
       "       'male', 'mania', 'mantl', 'mark', 'marrow', 'measl', 'medicin',\n",
       "       'melasma', 'mellitu', 'memori', 'menier', 'mening', 'meningococc',\n",
       "       'menopaus', 'menstrual', 'menstruat', 'metabol', 'metastat',\n",
       "       'methotrex', 'microscop', 'migrain', 'miner', 'miscarriag',\n",
       "       'moder', 'mood', 'motion', 'mouth', 'mouthtreat', 'movement', 'ms',\n",
       "       'mucu', 'multipl', 'mump', 'muscl', 'muscular', 'myasthenia',\n",
       "       'myelodysplast', 'myeloid', 'myeloma', 'myopia', 'nail', 'name',\n",
       "       'nasal', 'nausea', 'neck', 'need', 'nephrot', 'nerv', 'neuralgia',\n",
       "       'neuropath', 'neuropathi', 'nhl', 'non', 'noncirrhot', 'nose',\n",
       "       'numb', 'nutrit', 'oab', 'obes', 'obsess', 'obstruct', 'ocular',\n",
       "       'oper', 'opioid', 'optic', 'oral', 'organ', 'organophosph',\n",
       "       'osteoarthr', 'osteoporosi', 'ovarian', 'overact', 'overdos',\n",
       "       'overload', 'paget', 'pah', 'pain', 'pancreat', 'panic',\n",
       "       'paracetamol', 'paralyt', 'parasit', 'parkinson', 'patent',\n",
       "       'patient', 'pco', 'pda', 'pelvic', 'peptic', 'peripher', 'pernici',\n",
       "       'pertussi', 'pheochromocytoma', 'phosphat', 'pile', 'planu',\n",
       "       'plaqu', 'platelet', 'pm', 'pneumonia', 'poison', 'polio',\n",
       "       'polyangi', 'polycyst', 'polyp', 'post', 'postmenopaus',\n",
       "       'potassium', 'precoci', 'pregnanc', 'pregnant', 'prematur',\n",
       "       'premenstru', 'prepar', 'presbycusi', 'prescrib', 'pressur',\n",
       "       'prevent', 'primari', 'prolactin', 'promyelocyt', 'prostat',\n",
       "       'psoriasi', 'psoriasisprevent', 'psoriat', 'puberti', 'pulmonari',\n",
       "       'pupil', 'quit', 'rabi', 'radiotherapi', 'raynaud', 'reaction',\n",
       "       'rectum', 'recurr', 'red', 'reflux', 'regularli', 'reject',\n",
       "       'relat', 'relax', 'relief', 'reliev', 'replac', 'resist',\n",
       "       'respiratori', 'restless', 'retent', 'revers', 'rheumat',\n",
       "       'rheumatoid', 'ring', 'rosacea', 'rotaviru', 'rubella', 'runni',\n",
       "       'sarcoma', 'scabi', 'schizophrenia', 'sclerosi', 'seizur',\n",
       "       'seizuresprevent', 'sepsi', 'serotonin', 'sever', 'shingl',\n",
       "       'short', 'sick', 'sickl', 'simplex', 'skelet', 'skin', 'sle',\n",
       "       'sleep', 'small', 'smoke', 'smooth', 'snake', 'sneez', 'sodium',\n",
       "       'soft', 'soften', 'sore', 'spasm', 'specif', 'spinal', 'spondyl',\n",
       "       'stage', 'steatohepat', 'stimul', 'stomach', 'stone', 'stop',\n",
       "       'stress', 'stretch', 'stroke', 'strokeprevent', 'subarachnoid',\n",
       "       'suddenli', 'sunburn', 'surgeri', 'surgic', 'swell', 'symptom',\n",
       "       'symptomat', 'symptomsprevent', 'symptomstreat', 'syndrom',\n",
       "       'syphilisprevent', 'system', 'take', 'tb', 'tension', 'term',\n",
       "       'tetanu', 'tetanusprevent', 'therapi', 'therapyprevent', 'thought',\n",
       "       'throat', 'thrombocytopenia', 'thrombophleb', 'thrombosi',\n",
       "       'thrush', 'thyroid', 'tinnitu', 'tissu', 'toxic', 'tract',\n",
       "       'transplant', 'trauma', 'traumat', 'treat', 'treatment', 'tremor',\n",
       "       'trigemin', 'tuberculosi', 'tumor', 'tumour', 'type', 'typhoid',\n",
       "       'ulcer', 'unrespons', 'urinari', 'use', 'uterin', 'uti', 'uveiti',\n",
       "       'vagin', 'vagina', 'vaginosi', 'varic', 'varicos', 'vascular',\n",
       "       'vein', 'vertigo', 'viru', 'viscid', 'vitamin', 'vitiligo',\n",
       "       'vomit', 'wart', 'wellb', 'wet', 'women', 'work', 'worm', 'wound',\n",
       "       'wrinkl', 'zolling', 'zoster'], dtype=object)"
      ]
     },
     "execution_count": 89,
     "metadata": {},
     "output_type": "execute_result"
    }
   ],
   "source": [
    "tfIDF.get_feature_names_out() "
   ]
  },
  {
   "cell_type": "markdown",
   "metadata": {},
   "source": [
    "### Converting Text to Vectors\n",
    "\n",
    "Transforming the 'tags' column text data into numerical vectors using the TF-IDF Vectorizer and converts the result to an array."
   ]
  },
  {
   "cell_type": "code",
   "execution_count": 77,
   "metadata": {},
   "outputs": [],
   "source": [
    "vectors = tfIDF.fit_transform(medDataSet['tags']).toarray() "
   ]
  },
  {
   "cell_type": "code",
   "execution_count": 87,
   "metadata": {},
   "outputs": [
    {
     "name": "stdout",
     "output_type": "stream",
     "text": [
      "vectors :- \n",
      "  [0.         0.         0.         0.         0.         0.\n",
      " 0.         0.         0.         0.         0.         0.\n",
      " 0.         0.         0.         0.         0.         0.\n",
      " 0.         0.         0.         0.         0.         0.\n",
      " 0.         0.         0.         0.         0.         0.\n",
      " 0.         0.         0.         0.         0.         0.\n",
      " 0.         0.         0.         0.         0.         0.\n",
      " 0.         0.         0.         0.         0.         0.\n",
      " 0.         0.         0.         0.         0.         0.\n",
      " 0.         0.         0.         0.         0.         0.\n",
      " 0.         0.         0.         0.         0.         0.\n",
      " 0.         0.21434297 0.         0.         0.         0.\n",
      " 0.         0.70323388 0.         0.         0.         0.\n",
      " 0.         0.1969749  0.         0.24924103 0.         0.\n",
      " 0.         0.         0.         0.         0.         0.\n",
      " 0.         0.         0.         0.         0.         0.\n",
      " 0.         0.         0.23552052 0.         0.         0.\n",
      " 0.         0.         0.         0.         0.         0.\n",
      " 0.         0.         0.         0.         0.         0.\n",
      " 0.         0.         0.         0.         0.         0.\n",
      " 0.         0.         0.         0.         0.         0.\n",
      " 0.         0.         0.         0.         0.         0.\n",
      " 0.         0.         0.         0.         0.         0.\n",
      " 0.         0.         0.         0.         0.         0.\n",
      " 0.         0.         0.         0.         0.         0.\n",
      " 0.         0.         0.         0.         0.         0.\n",
      " 0.         0.         0.         0.         0.         0.\n",
      " 0.         0.         0.         0.         0.         0.\n",
      " 0.         0.         0.         0.         0.         0.\n",
      " 0.         0.         0.         0.         0.         0.\n",
      " 0.         0.         0.         0.         0.         0.\n",
      " 0.         0.         0.         0.         0.         0.\n",
      " 0.         0.         0.         0.         0.         0.\n",
      " 0.         0.         0.         0.         0.         0.\n",
      " 0.         0.         0.         0.         0.         0.\n",
      " 0.         0.         0.         0.         0.         0.\n",
      " 0.         0.         0.         0.         0.         0.\n",
      " 0.         0.         0.         0.         0.         0.\n",
      " 0.         0.         0.         0.         0.         0.\n",
      " 0.         0.         0.         0.         0.         0.\n",
      " 0.         0.         0.         0.         0.         0.\n",
      " 0.         0.         0.         0.         0.         0.\n",
      " 0.         0.         0.         0.         0.         0.\n",
      " 0.         0.         0.         0.         0.         0.\n",
      " 0.         0.         0.         0.         0.         0.\n",
      " 0.         0.         0.         0.         0.         0.\n",
      " 0.         0.         0.         0.         0.         0.\n",
      " 0.1572963  0.         0.         0.         0.         0.\n",
      " 0.         0.         0.         0.         0.         0.\n",
      " 0.         0.         0.         0.         0.         0.\n",
      " 0.         0.         0.20265055 0.         0.         0.\n",
      " 0.         0.         0.         0.         0.         0.\n",
      " 0.         0.         0.         0.         0.         0.\n",
      " 0.         0.         0.         0.         0.         0.\n",
      " 0.         0.         0.         0.         0.         0.\n",
      " 0.         0.         0.         0.         0.         0.\n",
      " 0.         0.         0.         0.         0.         0.\n",
      " 0.         0.         0.         0.         0.         0.\n",
      " 0.         0.         0.         0.         0.         0.\n",
      " 0.         0.         0.         0.         0.         0.\n",
      " 0.         0.2011153  0.         0.         0.         0.\n",
      " 0.         0.         0.         0.         0.         0.\n",
      " 0.         0.         0.         0.         0.         0.\n",
      " 0.         0.19966309 0.         0.         0.         0.\n",
      " 0.         0.         0.         0.         0.         0.\n",
      " 0.         0.         0.         0.         0.         0.\n",
      " 0.         0.         0.         0.         0.         0.\n",
      " 0.         0.         0.         0.         0.         0.\n",
      " 0.         0.         0.         0.         0.         0.\n",
      " 0.         0.         0.         0.         0.         0.\n",
      " 0.         0.         0.         0.         0.         0.\n",
      " 0.         0.         0.         0.         0.         0.\n",
      " 0.         0.         0.         0.         0.         0.\n",
      " 0.         0.         0.         0.         0.23552052 0.\n",
      " 0.         0.         0.         0.         0.         0.\n",
      " 0.         0.         0.         0.         0.         0.\n",
      " 0.         0.         0.         0.         0.         0.\n",
      " 0.         0.         0.         0.         0.         0.\n",
      " 0.         0.         0.         0.         0.         0.\n",
      " 0.         0.         0.         0.         0.         0.\n",
      " 0.         0.         0.         0.20786548 0.         0.\n",
      " 0.         0.         0.         0.         0.         0.\n",
      " 0.         0.         0.         0.         0.         0.\n",
      " 0.         0.         0.         0.         0.         0.\n",
      " 0.         0.         0.         0.         0.         0.\n",
      " 0.         0.         0.         0.         0.         0.\n",
      " 0.         0.         0.         0.         0.         0.\n",
      " 0.         0.         0.         0.         0.         0.\n",
      " 0.         0.         0.         0.         0.         0.\n",
      " 0.         0.         0.         0.         0.         0.\n",
      " 0.         0.         0.         0.         0.         0.\n",
      " 0.24151404 0.         0.         0.         0.         0.\n",
      " 0.         0.         0.         0.         0.         0.\n",
      " 0.         0.         0.         0.         0.         0.\n",
      " 0.         0.         0.         0.         0.         0.\n",
      " 0.         0.         0.         0.         0.         0.\n",
      " 0.         0.         0.         0.        ]\n"
     ]
    }
   ],
   "source": [
    "print(\"vectors :- \\n \",vectors[0])"
   ]
  },
  {
   "cell_type": "markdown",
   "metadata": {},
   "source": [
    "##### An Insight Into \"vectors\""
   ]
  },
  {
   "cell_type": "code",
   "execution_count": 88,
   "metadata": {},
   "outputs": [
    {
     "name": "stdout",
     "output_type": "stream",
     "text": [
      "vectors.shape :-  (11825, 580)\n",
      "len(vectors).shape :-  11825\n",
      "vectors.ndim :-  2\n"
     ]
    }
   ],
   "source": [
    "print(\"vectors.shape :- \",vectors.shape)\n",
    "print(\"len(vectors).shape :- \",len(vectors))\n",
    "print(\"vectors.ndim :- \",vectors.ndim)  "
   ]
  },
  {
   "cell_type": "markdown",
   "metadata": {},
   "source": [
    "### Calculating Cosine Similarity\n",
    "\n",
    "Computing the cosine similarity between the numerical vectors, measuring how similar the documents are to each other."
   ]
  },
  {
   "cell_type": "code",
   "execution_count": 90,
   "metadata": {},
   "outputs": [],
   "source": [
    "similarity = cosine_similarity(vectors) "
   ]
  },
  {
   "cell_type": "code",
   "execution_count": 96,
   "metadata": {},
   "outputs": [
    {
     "name": "stdout",
     "output_type": "stream",
     "text": [
      "similarity :- \n",
      "  [[1. 0. 0. ... 0. 0. 0.]\n",
      " [0. 1. 1. ... 0. 0. 0.]\n",
      " [0. 1. 1. ... 0. 0. 0.]\n",
      " ...\n",
      " [0. 0. 0. ... 1. 0. 0.]\n",
      " [0. 0. 0. ... 0. 1. 1.]\n",
      " [0. 0. 0. ... 0. 1. 1.]]\n"
     ]
    }
   ],
   "source": [
    "print(\"similarity :- \\n \",similarity)"
   ]
  },
  {
   "cell_type": "markdown",
   "metadata": {},
   "source": [
    "##### An Insight Into \"similarity\""
   ]
  },
  {
   "cell_type": "code",
   "execution_count": 91,
   "metadata": {},
   "outputs": [
    {
     "name": "stdout",
     "output_type": "stream",
     "text": [
      "similarity.shape :-  (11825, 11825)\n",
      "len(similarity).shape :-  11825\n",
      "similarity.ndim :-  2\n"
     ]
    }
   ],
   "source": [
    "print(\"similarity.shape :- \",similarity.shape) \n",
    "print(\"len(similarity).shape :- \",len(similarity))\n",
    "print(\"similarity.ndim :- \",similarity.ndim)"
   ]
  },
  {
   "cell_type": "code",
   "execution_count": 94,
   "metadata": {},
   "outputs": [
    {
     "data": {
      "text/plain": [
       "array([0., 1., 1., ..., 0., 0., 0.])"
      ]
     },
     "execution_count": 94,
     "metadata": {},
     "output_type": "execute_result"
    }
   ],
   "source": [
    "similarity[1]"
   ]
  },
  {
   "cell_type": "markdown",
   "metadata": {},
   "source": []
  },
  {
   "cell_type": "markdown",
   "metadata": {},
   "source": [
    "### Creating A Combined Column Of \"Uses\" And \"Side_effects\"\n",
    "\n",
    "Adding columns \"Uses\" and \"Side_effects\" and storing it into a new columns \"usesAndSideEffect\". This is useful for finding medicines with similar Use Case while having similar Side Effects. This is going to be our second column on which we will conduct cosine similary for recommendation objective.\n"
   ]
  },
  {
   "cell_type": "code",
   "execution_count": 14,
   "metadata": {},
   "outputs": [],
   "source": [
    "medDataSet[\"usesAndSideEffect\"]  =  medDataSet[\"Uses\"] + medDataSet[\"Side_effects\"]\n"
   ]
  },
  {
   "cell_type": "code",
   "execution_count": 15,
   "metadata": {},
   "outputs": [
    {
     "data": {
      "text/plain": [
       "11820     Hypertension (high blood pressure)Dizziness T...\n",
       "11821     Polycystic ovarian syndrome (PCOS)Rash Nausea...\n",
       "11822     Erectile dysfunctionFlushing sense of warmth ...\n",
       "11823     DandruffApplication site reactions burning ir...\n",
       "11824     DandruffApplication site reactions burning ir...\n",
       "Name: usesAndSideEffect, dtype: object"
      ]
     },
     "execution_count": 15,
     "metadata": {},
     "output_type": "execute_result"
    }
   ],
   "source": [
    "medDataSet[\"usesAndSideEffect\"].tail()"
   ]
  },
  {
   "cell_type": "code",
   "execution_count": 16,
   "metadata": {},
   "outputs": [
    {
     "data": {
      "text/plain": [
       "Index(['Name', 'Composition', 'Uses', 'Side_effects', 'image_url',\n",
       "       'Manufacturer', 'exc_review_per', 'avg_review_per', 'poor_review_per',\n",
       "       'score', 'usesAndSideEffect'],\n",
       "      dtype='object')"
      ]
     },
     "execution_count": 16,
     "metadata": {},
     "output_type": "execute_result"
    }
   ],
   "source": [
    "medDataSet.columns"
   ]
  },
  {
   "cell_type": "markdown",
   "metadata": {},
   "source": [
    "After the series of operations over the DataFrame we have now added up a few more new columns which are \"score\" and \"usesAndSideEffect\". No we have about 11 columns in total."
   ]
  },
  {
   "cell_type": "markdown",
   "metadata": {},
   "source": [
    "."
   ]
  },
  {
   "cell_type": "markdown",
   "metadata": {},
   "source": [
    "### Applying Stemming Function\n",
    "\n",
    "Applying stem function to each entry in the 'usesAndSideEffect' column and stores the results in a new column named 'tagsForUsesAndSideEffect'. It's used for text preprocessing."
   ]
  },
  {
   "cell_type": "code",
   "execution_count": 17,
   "metadata": {},
   "outputs": [],
   "source": [
    "medDataSet['tagsForUsesAndSideEffect'] = medDataSet['usesAndSideEffect'].apply(stem)"
   ]
  },
  {
   "cell_type": "code",
   "execution_count": 18,
   "metadata": {},
   "outputs": [
    {
     "data": {
      "text/plain": [
       "11820     Hypertension (high blood pressure)Dizziness T...\n",
       "11821     Polycystic ovarian syndrome (PCOS)Rash Nausea...\n",
       "11822     Erectile dysfunctionFlushing sense of warmth ...\n",
       "11823     DandruffApplication site reactions burning ir...\n",
       "11824     DandruffApplication site reactions burning ir...\n",
       "Name: usesAndSideEffect, dtype: object"
      ]
     },
     "execution_count": 18,
     "metadata": {},
     "output_type": "execute_result"
    }
   ],
   "source": [
    "medDataSet[\"usesAndSideEffect\"].tail()"
   ]
  },
  {
   "cell_type": "markdown",
   "metadata": {},
   "source": [
    "We have successfully added and stemmed \"usesAndSideEffect\" which contains both the use case and side effects of the medicines."
   ]
  },
  {
   "cell_type": "markdown",
   "metadata": {},
   "source": [
    "."
   ]
  },
  {
   "cell_type": "markdown",
   "metadata": {},
   "source": [
    "### TF-IDF Vectorizer\n",
    "\n",
    "Creating a TF-IDF Vectorizer with a maximum of 5,000 features. It's used to transform text data into numerical features based on Term Frequency-Inverse Document Frequency, focusing on the most important terms."
   ]
  },
  {
   "cell_type": "code",
   "execution_count": 19,
   "metadata": {},
   "outputs": [],
   "source": [
    "tfIDFsideEffect = TfidfVectorizer(max_features=5000)  "
   ]
  },
  {
   "cell_type": "code",
   "execution_count": 20,
   "metadata": {},
   "outputs": [
    {
     "data": {
      "text/html": [
       "<style>#sk-container-id-1 {\n",
       "  /* Definition of color scheme common for light and dark mode */\n",
       "  --sklearn-color-text: #000;\n",
       "  --sklearn-color-text-muted: #666;\n",
       "  --sklearn-color-line: gray;\n",
       "  /* Definition of color scheme for unfitted estimators */\n",
       "  --sklearn-color-unfitted-level-0: #fff5e6;\n",
       "  --sklearn-color-unfitted-level-1: #f6e4d2;\n",
       "  --sklearn-color-unfitted-level-2: #ffe0b3;\n",
       "  --sklearn-color-unfitted-level-3: chocolate;\n",
       "  /* Definition of color scheme for fitted estimators */\n",
       "  --sklearn-color-fitted-level-0: #f0f8ff;\n",
       "  --sklearn-color-fitted-level-1: #d4ebff;\n",
       "  --sklearn-color-fitted-level-2: #b3dbfd;\n",
       "  --sklearn-color-fitted-level-3: cornflowerblue;\n",
       "\n",
       "  /* Specific color for light theme */\n",
       "  --sklearn-color-text-on-default-background: var(--sg-text-color, var(--theme-code-foreground, var(--jp-content-font-color1, black)));\n",
       "  --sklearn-color-background: var(--sg-background-color, var(--theme-background, var(--jp-layout-color0, white)));\n",
       "  --sklearn-color-border-box: var(--sg-text-color, var(--theme-code-foreground, var(--jp-content-font-color1, black)));\n",
       "  --sklearn-color-icon: #696969;\n",
       "\n",
       "  @media (prefers-color-scheme: dark) {\n",
       "    /* Redefinition of color scheme for dark theme */\n",
       "    --sklearn-color-text-on-default-background: var(--sg-text-color, var(--theme-code-foreground, var(--jp-content-font-color1, white)));\n",
       "    --sklearn-color-background: var(--sg-background-color, var(--theme-background, var(--jp-layout-color0, #111)));\n",
       "    --sklearn-color-border-box: var(--sg-text-color, var(--theme-code-foreground, var(--jp-content-font-color1, white)));\n",
       "    --sklearn-color-icon: #878787;\n",
       "  }\n",
       "}\n",
       "\n",
       "#sk-container-id-1 {\n",
       "  color: var(--sklearn-color-text);\n",
       "}\n",
       "\n",
       "#sk-container-id-1 pre {\n",
       "  padding: 0;\n",
       "}\n",
       "\n",
       "#sk-container-id-1 input.sk-hidden--visually {\n",
       "  border: 0;\n",
       "  clip: rect(1px 1px 1px 1px);\n",
       "  clip: rect(1px, 1px, 1px, 1px);\n",
       "  height: 1px;\n",
       "  margin: -1px;\n",
       "  overflow: hidden;\n",
       "  padding: 0;\n",
       "  position: absolute;\n",
       "  width: 1px;\n",
       "}\n",
       "\n",
       "#sk-container-id-1 div.sk-dashed-wrapped {\n",
       "  border: 1px dashed var(--sklearn-color-line);\n",
       "  margin: 0 0.4em 0.5em 0.4em;\n",
       "  box-sizing: border-box;\n",
       "  padding-bottom: 0.4em;\n",
       "  background-color: var(--sklearn-color-background);\n",
       "}\n",
       "\n",
       "#sk-container-id-1 div.sk-container {\n",
       "  /* jupyter's `normalize.less` sets `[hidden] { display: none; }`\n",
       "     but bootstrap.min.css set `[hidden] { display: none !important; }`\n",
       "     so we also need the `!important` here to be able to override the\n",
       "     default hidden behavior on the sphinx rendered scikit-learn.org.\n",
       "     See: https://github.com/scikit-learn/scikit-learn/issues/21755 */\n",
       "  display: inline-block !important;\n",
       "  position: relative;\n",
       "}\n",
       "\n",
       "#sk-container-id-1 div.sk-text-repr-fallback {\n",
       "  display: none;\n",
       "}\n",
       "\n",
       "div.sk-parallel-item,\n",
       "div.sk-serial,\n",
       "div.sk-item {\n",
       "  /* draw centered vertical line to link estimators */\n",
       "  background-image: linear-gradient(var(--sklearn-color-text-on-default-background), var(--sklearn-color-text-on-default-background));\n",
       "  background-size: 2px 100%;\n",
       "  background-repeat: no-repeat;\n",
       "  background-position: center center;\n",
       "}\n",
       "\n",
       "/* Parallel-specific style estimator block */\n",
       "\n",
       "#sk-container-id-1 div.sk-parallel-item::after {\n",
       "  content: \"\";\n",
       "  width: 100%;\n",
       "  border-bottom: 2px solid var(--sklearn-color-text-on-default-background);\n",
       "  flex-grow: 1;\n",
       "}\n",
       "\n",
       "#sk-container-id-1 div.sk-parallel {\n",
       "  display: flex;\n",
       "  align-items: stretch;\n",
       "  justify-content: center;\n",
       "  background-color: var(--sklearn-color-background);\n",
       "  position: relative;\n",
       "}\n",
       "\n",
       "#sk-container-id-1 div.sk-parallel-item {\n",
       "  display: flex;\n",
       "  flex-direction: column;\n",
       "}\n",
       "\n",
       "#sk-container-id-1 div.sk-parallel-item:first-child::after {\n",
       "  align-self: flex-end;\n",
       "  width: 50%;\n",
       "}\n",
       "\n",
       "#sk-container-id-1 div.sk-parallel-item:last-child::after {\n",
       "  align-self: flex-start;\n",
       "  width: 50%;\n",
       "}\n",
       "\n",
       "#sk-container-id-1 div.sk-parallel-item:only-child::after {\n",
       "  width: 0;\n",
       "}\n",
       "\n",
       "/* Serial-specific style estimator block */\n",
       "\n",
       "#sk-container-id-1 div.sk-serial {\n",
       "  display: flex;\n",
       "  flex-direction: column;\n",
       "  align-items: center;\n",
       "  background-color: var(--sklearn-color-background);\n",
       "  padding-right: 1em;\n",
       "  padding-left: 1em;\n",
       "}\n",
       "\n",
       "\n",
       "/* Toggleable style: style used for estimator/Pipeline/ColumnTransformer box that is\n",
       "clickable and can be expanded/collapsed.\n",
       "- Pipeline and ColumnTransformer use this feature and define the default style\n",
       "- Estimators will overwrite some part of the style using the `sk-estimator` class\n",
       "*/\n",
       "\n",
       "/* Pipeline and ColumnTransformer style (default) */\n",
       "\n",
       "#sk-container-id-1 div.sk-toggleable {\n",
       "  /* Default theme specific background. It is overwritten whether we have a\n",
       "  specific estimator or a Pipeline/ColumnTransformer */\n",
       "  background-color: var(--sklearn-color-background);\n",
       "}\n",
       "\n",
       "/* Toggleable label */\n",
       "#sk-container-id-1 label.sk-toggleable__label {\n",
       "  cursor: pointer;\n",
       "  display: flex;\n",
       "  width: 100%;\n",
       "  margin-bottom: 0;\n",
       "  padding: 0.5em;\n",
       "  box-sizing: border-box;\n",
       "  text-align: center;\n",
       "  align-items: start;\n",
       "  justify-content: space-between;\n",
       "  gap: 0.5em;\n",
       "}\n",
       "\n",
       "#sk-container-id-1 label.sk-toggleable__label .caption {\n",
       "  font-size: 0.6rem;\n",
       "  font-weight: lighter;\n",
       "  color: var(--sklearn-color-text-muted);\n",
       "}\n",
       "\n",
       "#sk-container-id-1 label.sk-toggleable__label-arrow:before {\n",
       "  /* Arrow on the left of the label */\n",
       "  content: \"▸\";\n",
       "  float: left;\n",
       "  margin-right: 0.25em;\n",
       "  color: var(--sklearn-color-icon);\n",
       "}\n",
       "\n",
       "#sk-container-id-1 label.sk-toggleable__label-arrow:hover:before {\n",
       "  color: var(--sklearn-color-text);\n",
       "}\n",
       "\n",
       "/* Toggleable content - dropdown */\n",
       "\n",
       "#sk-container-id-1 div.sk-toggleable__content {\n",
       "  max-height: 0;\n",
       "  max-width: 0;\n",
       "  overflow: hidden;\n",
       "  text-align: left;\n",
       "  /* unfitted */\n",
       "  background-color: var(--sklearn-color-unfitted-level-0);\n",
       "}\n",
       "\n",
       "#sk-container-id-1 div.sk-toggleable__content.fitted {\n",
       "  /* fitted */\n",
       "  background-color: var(--sklearn-color-fitted-level-0);\n",
       "}\n",
       "\n",
       "#sk-container-id-1 div.sk-toggleable__content pre {\n",
       "  margin: 0.2em;\n",
       "  border-radius: 0.25em;\n",
       "  color: var(--sklearn-color-text);\n",
       "  /* unfitted */\n",
       "  background-color: var(--sklearn-color-unfitted-level-0);\n",
       "}\n",
       "\n",
       "#sk-container-id-1 div.sk-toggleable__content.fitted pre {\n",
       "  /* unfitted */\n",
       "  background-color: var(--sklearn-color-fitted-level-0);\n",
       "}\n",
       "\n",
       "#sk-container-id-1 input.sk-toggleable__control:checked~div.sk-toggleable__content {\n",
       "  /* Expand drop-down */\n",
       "  max-height: 200px;\n",
       "  max-width: 100%;\n",
       "  overflow: auto;\n",
       "}\n",
       "\n",
       "#sk-container-id-1 input.sk-toggleable__control:checked~label.sk-toggleable__label-arrow:before {\n",
       "  content: \"▾\";\n",
       "}\n",
       "\n",
       "/* Pipeline/ColumnTransformer-specific style */\n",
       "\n",
       "#sk-container-id-1 div.sk-label input.sk-toggleable__control:checked~label.sk-toggleable__label {\n",
       "  color: var(--sklearn-color-text);\n",
       "  background-color: var(--sklearn-color-unfitted-level-2);\n",
       "}\n",
       "\n",
       "#sk-container-id-1 div.sk-label.fitted input.sk-toggleable__control:checked~label.sk-toggleable__label {\n",
       "  background-color: var(--sklearn-color-fitted-level-2);\n",
       "}\n",
       "\n",
       "/* Estimator-specific style */\n",
       "\n",
       "/* Colorize estimator box */\n",
       "#sk-container-id-1 div.sk-estimator input.sk-toggleable__control:checked~label.sk-toggleable__label {\n",
       "  /* unfitted */\n",
       "  background-color: var(--sklearn-color-unfitted-level-2);\n",
       "}\n",
       "\n",
       "#sk-container-id-1 div.sk-estimator.fitted input.sk-toggleable__control:checked~label.sk-toggleable__label {\n",
       "  /* fitted */\n",
       "  background-color: var(--sklearn-color-fitted-level-2);\n",
       "}\n",
       "\n",
       "#sk-container-id-1 div.sk-label label.sk-toggleable__label,\n",
       "#sk-container-id-1 div.sk-label label {\n",
       "  /* The background is the default theme color */\n",
       "  color: var(--sklearn-color-text-on-default-background);\n",
       "}\n",
       "\n",
       "/* On hover, darken the color of the background */\n",
       "#sk-container-id-1 div.sk-label:hover label.sk-toggleable__label {\n",
       "  color: var(--sklearn-color-text);\n",
       "  background-color: var(--sklearn-color-unfitted-level-2);\n",
       "}\n",
       "\n",
       "/* Label box, darken color on hover, fitted */\n",
       "#sk-container-id-1 div.sk-label.fitted:hover label.sk-toggleable__label.fitted {\n",
       "  color: var(--sklearn-color-text);\n",
       "  background-color: var(--sklearn-color-fitted-level-2);\n",
       "}\n",
       "\n",
       "/* Estimator label */\n",
       "\n",
       "#sk-container-id-1 div.sk-label label {\n",
       "  font-family: monospace;\n",
       "  font-weight: bold;\n",
       "  display: inline-block;\n",
       "  line-height: 1.2em;\n",
       "}\n",
       "\n",
       "#sk-container-id-1 div.sk-label-container {\n",
       "  text-align: center;\n",
       "}\n",
       "\n",
       "/* Estimator-specific */\n",
       "#sk-container-id-1 div.sk-estimator {\n",
       "  font-family: monospace;\n",
       "  border: 1px dotted var(--sklearn-color-border-box);\n",
       "  border-radius: 0.25em;\n",
       "  box-sizing: border-box;\n",
       "  margin-bottom: 0.5em;\n",
       "  /* unfitted */\n",
       "  background-color: var(--sklearn-color-unfitted-level-0);\n",
       "}\n",
       "\n",
       "#sk-container-id-1 div.sk-estimator.fitted {\n",
       "  /* fitted */\n",
       "  background-color: var(--sklearn-color-fitted-level-0);\n",
       "}\n",
       "\n",
       "/* on hover */\n",
       "#sk-container-id-1 div.sk-estimator:hover {\n",
       "  /* unfitted */\n",
       "  background-color: var(--sklearn-color-unfitted-level-2);\n",
       "}\n",
       "\n",
       "#sk-container-id-1 div.sk-estimator.fitted:hover {\n",
       "  /* fitted */\n",
       "  background-color: var(--sklearn-color-fitted-level-2);\n",
       "}\n",
       "\n",
       "/* Specification for estimator info (e.g. \"i\" and \"?\") */\n",
       "\n",
       "/* Common style for \"i\" and \"?\" */\n",
       "\n",
       ".sk-estimator-doc-link,\n",
       "a:link.sk-estimator-doc-link,\n",
       "a:visited.sk-estimator-doc-link {\n",
       "  float: right;\n",
       "  font-size: smaller;\n",
       "  line-height: 1em;\n",
       "  font-family: monospace;\n",
       "  background-color: var(--sklearn-color-background);\n",
       "  border-radius: 1em;\n",
       "  height: 1em;\n",
       "  width: 1em;\n",
       "  text-decoration: none !important;\n",
       "  margin-left: 0.5em;\n",
       "  text-align: center;\n",
       "  /* unfitted */\n",
       "  border: var(--sklearn-color-unfitted-level-1) 1pt solid;\n",
       "  color: var(--sklearn-color-unfitted-level-1);\n",
       "}\n",
       "\n",
       ".sk-estimator-doc-link.fitted,\n",
       "a:link.sk-estimator-doc-link.fitted,\n",
       "a:visited.sk-estimator-doc-link.fitted {\n",
       "  /* fitted */\n",
       "  border: var(--sklearn-color-fitted-level-1) 1pt solid;\n",
       "  color: var(--sklearn-color-fitted-level-1);\n",
       "}\n",
       "\n",
       "/* On hover */\n",
       "div.sk-estimator:hover .sk-estimator-doc-link:hover,\n",
       ".sk-estimator-doc-link:hover,\n",
       "div.sk-label-container:hover .sk-estimator-doc-link:hover,\n",
       ".sk-estimator-doc-link:hover {\n",
       "  /* unfitted */\n",
       "  background-color: var(--sklearn-color-unfitted-level-3);\n",
       "  color: var(--sklearn-color-background);\n",
       "  text-decoration: none;\n",
       "}\n",
       "\n",
       "div.sk-estimator.fitted:hover .sk-estimator-doc-link.fitted:hover,\n",
       ".sk-estimator-doc-link.fitted:hover,\n",
       "div.sk-label-container:hover .sk-estimator-doc-link.fitted:hover,\n",
       ".sk-estimator-doc-link.fitted:hover {\n",
       "  /* fitted */\n",
       "  background-color: var(--sklearn-color-fitted-level-3);\n",
       "  color: var(--sklearn-color-background);\n",
       "  text-decoration: none;\n",
       "}\n",
       "\n",
       "/* Span, style for the box shown on hovering the info icon */\n",
       ".sk-estimator-doc-link span {\n",
       "  display: none;\n",
       "  z-index: 9999;\n",
       "  position: relative;\n",
       "  font-weight: normal;\n",
       "  right: .2ex;\n",
       "  padding: .5ex;\n",
       "  margin: .5ex;\n",
       "  width: min-content;\n",
       "  min-width: 20ex;\n",
       "  max-width: 50ex;\n",
       "  color: var(--sklearn-color-text);\n",
       "  box-shadow: 2pt 2pt 4pt #999;\n",
       "  /* unfitted */\n",
       "  background: var(--sklearn-color-unfitted-level-0);\n",
       "  border: .5pt solid var(--sklearn-color-unfitted-level-3);\n",
       "}\n",
       "\n",
       ".sk-estimator-doc-link.fitted span {\n",
       "  /* fitted */\n",
       "  background: var(--sklearn-color-fitted-level-0);\n",
       "  border: var(--sklearn-color-fitted-level-3);\n",
       "}\n",
       "\n",
       ".sk-estimator-doc-link:hover span {\n",
       "  display: block;\n",
       "}\n",
       "\n",
       "/* \"?\"-specific style due to the `<a>` HTML tag */\n",
       "\n",
       "#sk-container-id-1 a.estimator_doc_link {\n",
       "  float: right;\n",
       "  font-size: 1rem;\n",
       "  line-height: 1em;\n",
       "  font-family: monospace;\n",
       "  background-color: var(--sklearn-color-background);\n",
       "  border-radius: 1rem;\n",
       "  height: 1rem;\n",
       "  width: 1rem;\n",
       "  text-decoration: none;\n",
       "  /* unfitted */\n",
       "  color: var(--sklearn-color-unfitted-level-1);\n",
       "  border: var(--sklearn-color-unfitted-level-1) 1pt solid;\n",
       "}\n",
       "\n",
       "#sk-container-id-1 a.estimator_doc_link.fitted {\n",
       "  /* fitted */\n",
       "  border: var(--sklearn-color-fitted-level-1) 1pt solid;\n",
       "  color: var(--sklearn-color-fitted-level-1);\n",
       "}\n",
       "\n",
       "/* On hover */\n",
       "#sk-container-id-1 a.estimator_doc_link:hover {\n",
       "  /* unfitted */\n",
       "  background-color: var(--sklearn-color-unfitted-level-3);\n",
       "  color: var(--sklearn-color-background);\n",
       "  text-decoration: none;\n",
       "}\n",
       "\n",
       "#sk-container-id-1 a.estimator_doc_link.fitted:hover {\n",
       "  /* fitted */\n",
       "  background-color: var(--sklearn-color-fitted-level-3);\n",
       "}\n",
       "</style><div id=\"sk-container-id-1\" class=\"sk-top-container\"><div class=\"sk-text-repr-fallback\"><pre>TfidfVectorizer(max_features=5000)</pre><b>In a Jupyter environment, please rerun this cell to show the HTML representation or trust the notebook. <br />On GitHub, the HTML representation is unable to render, please try loading this page with nbviewer.org.</b></div><div class=\"sk-container\" hidden><div class=\"sk-item\"><div class=\"sk-estimator  sk-toggleable\"><input class=\"sk-toggleable__control sk-hidden--visually\" id=\"sk-estimator-id-1\" type=\"checkbox\" checked><label for=\"sk-estimator-id-1\" class=\"sk-toggleable__label  sk-toggleable__label-arrow\"><div><div>TfidfVectorizer</div></div><div><a class=\"sk-estimator-doc-link \" rel=\"noreferrer\" target=\"_blank\" href=\"https://scikit-learn.org/1.6/modules/generated/sklearn.feature_extraction.text.TfidfVectorizer.html\">?<span>Documentation for TfidfVectorizer</span></a><span class=\"sk-estimator-doc-link \">i<span>Not fitted</span></span></div></label><div class=\"sk-toggleable__content \"><pre>TfidfVectorizer(max_features=5000)</pre></div> </div></div></div></div>"
      ],
      "text/plain": [
       "TfidfVectorizer(max_features=5000)"
      ]
     },
     "execution_count": 20,
     "metadata": {},
     "output_type": "execute_result"
    }
   ],
   "source": [
    "tfIDFsideEffect "
   ]
  },
  {
   "cell_type": "markdown",
   "metadata": {},
   "source": [
    "### Getting Feature Names\n",
    "\n",
    "Using \"get_feature_names_out()\" to return an array of the feature names (terms) extracted by the TF-IDF Vectorizer."
   ]
  },
  {
   "cell_type": "code",
   "execution_count": 22,
   "metadata": {},
   "outputs": [
    {
     "data": {
      "text/plain": [
       "array(['abdomin', 'abnorm', 'absenc', ..., 'yellow', 'zolling',\n",
       "       'zosterheadach'], dtype=object)"
      ]
     },
     "execution_count": 22,
     "metadata": {},
     "output_type": "execute_result"
    }
   ],
   "source": [
    "tfIDFsideEffect.get_feature_names_out() "
   ]
  },
  {
   "cell_type": "markdown",
   "metadata": {},
   "source": [
    "### Converting Text to Vectors\n",
    "\n",
    "Transforming the 'tagsForUsesAndSideEffect' column text data into numerical vectors using the TF-IDF Vectorizer and converts the result to an array. "
   ]
  },
  {
   "cell_type": "code",
   "execution_count": 21,
   "metadata": {},
   "outputs": [],
   "source": [
    "vectorsSideEffect = tfIDFsideEffect.fit_transform(medDataSet['tagsForUsesAndSideEffect']).toarray()"
   ]
  },
  {
   "cell_type": "markdown",
   "metadata": {},
   "source": [
    "##### An Insight Into \"vectorsSideEffect\""
   ]
  },
  {
   "cell_type": "code",
   "execution_count": 23,
   "metadata": {},
   "outputs": [
    {
     "name": "stdout",
     "output_type": "stream",
     "text": [
      "vectorsSideEffect.shape :-  (11825, 1809)\n",
      "len(vectorsSideEffect).shape :-  11825\n",
      "vectorsSideEffect.ndim :-  2\n"
     ]
    }
   ],
   "source": [
    "print(\"vectorsSideEffect.shape :- \",vectorsSideEffect.shape)\n",
    "print(\"len(vectorsSideEffect).shape :- \",len(vectorsSideEffect)) \n",
    "print(\"vectorsSideEffect.ndim :- \",vectorsSideEffect.ndim) "
   ]
  },
  {
   "cell_type": "markdown",
   "metadata": {},
   "source": [
    "."
   ]
  },
  {
   "cell_type": "markdown",
   "metadata": {},
   "source": [
    "### Calculating Cosine Similarity\n",
    "\n",
    "Computing the cosine similarity between the numerical vectors, measuring how similar the documents are to each other."
   ]
  },
  {
   "cell_type": "code",
   "execution_count": 25,
   "metadata": {},
   "outputs": [],
   "source": [
    "similaritySideEffect = cosine_similarity(vectorsSideEffect) "
   ]
  },
  {
   "cell_type": "code",
   "execution_count": 26,
   "metadata": {},
   "outputs": [
    {
     "name": "stdout",
     "output_type": "stream",
     "text": [
      "similaritySideEffect :- \n",
      "  [[1.         0.         0.01221422 ... 0.03044416 0.         0.        ]\n",
      " [0.         1.         0.22145734 ... 0.01921974 0.         0.        ]\n",
      " [0.01221422 0.22145734 1.         ... 0.0247759  0.         0.        ]\n",
      " ...\n",
      " [0.03044416 0.01921974 0.0247759  ... 1.         0.         0.        ]\n",
      " [0.         0.         0.         ... 0.         1.         1.        ]\n",
      " [0.         0.         0.         ... 0.         1.         1.        ]]\n"
     ]
    }
   ],
   "source": [
    "print(\"similaritySideEffect :- \\n \",similaritySideEffect)"
   ]
  },
  {
   "cell_type": "markdown",
   "metadata": {},
   "source": [
    "##### An Insight Into \"similaritySideEffect\""
   ]
  },
  {
   "cell_type": "code",
   "execution_count": 27,
   "metadata": {},
   "outputs": [
    {
     "name": "stdout",
     "output_type": "stream",
     "text": [
      "similaritySideEffect.shape :-  (11825, 11825)\n",
      "len(similaritySideEffect).shape :-  11825\n",
      "similaritySideEffect.ndim :-  2\n"
     ]
    }
   ],
   "source": [
    "print(\"similaritySideEffect.shape :- \",similaritySideEffect.shape)\n",
    "print(\"len(similaritySideEffect).shape :- \",len(similaritySideEffect))\n",
    "print(\"similaritySideEffect.ndim :- \",similaritySideEffect.ndim) "
   ]
  },
  {
   "cell_type": "code",
   "execution_count": null,
   "metadata": {},
   "outputs": [],
   "source": []
  },
  {
   "cell_type": "markdown",
   "metadata": {},
   "source": [
    "### Recommendation Function\n",
    "\n",
    "This function will take user input while doing cosine similarity upon the given input and checks for the availability of the medicine in the dataset and if yes than will recommend the medicines based on its similarity of use case which will again will be sorted based on the review scores and curating/displaying it by highest to lowest from right to left. "
   ]
  },
  {
   "cell_type": "code",
   "execution_count": 217,
   "metadata": {},
   "outputs": [],
   "source": [
    "def recommendation(medicine):\n",
    "    \n",
    "    try:\n",
    "        medicine_index = medDataSet[medDataSet['Name'] == medicine].index[0]\n",
    "        distance = similarity[medicine_index]\n",
    "        medicine_list = list(enumerate(distance))\n",
    "        sorted_medicine_list = sorted(medicine_list, reverse=True, key=lambda x: x[1])[1:6]\n",
    "        \n",
    "        top_medicines = {}\n",
    "        seen = set()\n",
    "        \n",
    "        for i in sorted_medicine_list:\n",
    "            if len(top_medicines) >= 5:\n",
    "                break\n",
    "            \n",
    "            if medDataSet.iloc[i[0]].Name not in seen:\n",
    "                top_medicines[medDataSet.iloc[i[0]].Name] = {\n",
    "                    'review_score': medDataSet.iloc[i[0]].score,\n",
    "                    'Manufacturer': medDataSet.iloc[i[0]].Manufacturer\n",
    "                }\n",
    "                \n",
    "                seen.add(medDataSet.iloc[i[0]].Name)\n",
    "    \n",
    "        sorted_top_medicines = dict(sorted(top_medicines.items(), key=lambda item: item[1]['review_score'], reverse=True))\n",
    "        \n",
    "        \n",
    "        for name, score  in sorted_top_medicines.items():\n",
    "            print(f\"Medicine: {name} || Review Score: {score['review_score']} || Manufacturer: {score['Manufacturer']}\")\n",
    "    \n",
    "    except Exception as e:\n",
    "        print(\"No Such Input Found\")\n"
   ]
  },
  {
   "cell_type": "code",
   "execution_count": 218,
   "metadata": {},
   "outputs": [
    {
     "name": "stdout",
     "output_type": "stream",
     "text": [
      "Medicine: Ascoril D Junior Cough Syrup || Review Score: 2.02 || Manufacturer: Glenmark Pharmaceuticals Ltd\n",
      "Medicine: Asthakind-DX Syrup Sugar Free || Review Score: 1.96 || Manufacturer: Mankind Pharma Ltd\n",
      "Medicine: Alex Syrup || Review Score: 1.95 || Manufacturer: Glenmark Pharmaceuticals Ltd\n",
      "Medicine: Alex Junior Syrup || Review Score: 1.94 || Manufacturer: Glenmark Pharmaceuticals Ltd\n",
      "Medicine: Alex Cough Lozenges Lemon Ginger || Review Score: 1.67 || Manufacturer: Glenmark Pharmaceuticals Ltd\n"
     ]
    }
   ],
   "source": [
    "recommendation(\"Ascoril D Plus Syrup Sugar Free\") "
   ]
  },
  {
   "cell_type": "code",
   "execution_count": null,
   "metadata": {},
   "outputs": [],
   "source": []
  },
  {
   "cell_type": "markdown",
   "metadata": {},
   "source": [
    "### Similarity Recommendation for (Use Case + Side Effect) "
   ]
  },
  {
   "cell_type": "code",
   "execution_count": 32,
   "metadata": {},
   "outputs": [],
   "source": [
    "def recommendationSideEffect(medicine):\n",
    "    \n",
    "    try:\n",
    "        medicine_index = medDataSet[medDataSet['Name'] == medicine].index[0]\n",
    "        distance = similaritySideEffect[medicine_index]\n",
    "        medicine_list = list(enumerate(distance))\n",
    "        sorted_medicine_list = sorted(medicine_list, reverse=True, key=lambda x: x[1])[1:6]\n",
    "        \n",
    "        top_medicines = {}\n",
    "        seen = set()\n",
    "        \n",
    "        for i in sorted_medicine_list:\n",
    "            if len(top_medicines) >= 5:\n",
    "                break\n",
    "            \n",
    "            if medDataSet.iloc[i[0]].Name not in seen:\n",
    "                top_medicines[medDataSet.iloc[i[0]].Name] = {\n",
    "                    'review_score': medDataSet.iloc[i[0]].score,\n",
    "                    'Manufacturer': medDataSet.iloc[i[0]].Manufacturer\n",
    "                }\n",
    "                \n",
    "                seen.add(medDataSet.iloc[i[0]].Name)\n",
    "    \n",
    "        sorted_top_medicines = dict(sorted(top_medicines.items(), key=lambda item: item[1]['review_score'], reverse=True))\n",
    "        \n",
    "        \n",
    "        for name, score  in sorted_top_medicines.items():\n",
    "            print(f\"Medicine: {name} || Review Score: {score['review_score']} || Manufacturer: {score['Manufacturer']}\")\n",
    "    \n",
    "    except Exception as e:\n",
    "        print(\"No Such Input Found\")\n"
   ]
  },
  {
   "cell_type": "code",
   "execution_count": 33,
   "metadata": {},
   "outputs": [
    {
     "name": "stdout",
     "output_type": "stream",
     "text": [
      "Medicine: Alkof Junior Syrup || Review Score: 2.08 || Manufacturer: Alkem Laboratories Ltd\n",
      "Medicine: Alex Syrup Sugar Free || Review Score: 2.03 || Manufacturer: Glenmark Pharmaceuticals Ltd\n",
      "Medicine: Ascoril D Junior Cough Syrup || Review Score: 2.02 || Manufacturer: Glenmark Pharmaceuticals Ltd\n",
      "Medicine: Asthakind-DX Syrup Sugar Free || Review Score: 1.96 || Manufacturer: Mankind Pharma Ltd\n",
      "Medicine: Alex Syrup || Review Score: 1.95 || Manufacturer: Glenmark Pharmaceuticals Ltd\n"
     ]
    }
   ],
   "source": [
    "recommendationSideEffect(\"Ascoril D Plus Syrup Sugar Free\")"
   ]
  },
  {
   "cell_type": "code",
   "execution_count": null,
   "metadata": {},
   "outputs": [],
   "source": []
  },
  {
   "cell_type": "markdown",
   "metadata": {},
   "source": [
    "### Creating path for pickle files"
   ]
  },
  {
   "cell_type": "code",
   "execution_count": 28,
   "metadata": {},
   "outputs": [],
   "source": [
    "folder_name = 'pickle_files'\n",
    "os.makedirs(folder_name, exist_ok=True)"
   ]
  },
  {
   "cell_type": "markdown",
   "metadata": {},
   "source": [
    "##### Created and dumped pickle for \"similarity\" , \"medDataSet\" and \"similaritySideEffect\" into the pickle path named \"picke_files\" <- folder "
   ]
  },
  {
   "cell_type": "code",
   "execution_count": 200,
   "metadata": {},
   "outputs": [],
   "source": [
    "pickle.dump(similarity, open(os.path.join(folder_name, 'similarityWeightAssign.pkl'), 'wb'))\n",
    "pickle.dump(medDataSet, open(os.path.join(folder_name, 'medDataSet.pkl'), 'wb'))\n",
    "pickle.dump(similaritySideEffect, open(os.path.join(folder_name, 'similaritySideEffect.pkl'), 'wb'))"
   ]
  },
  {
   "cell_type": "markdown",
   "metadata": {},
   "source": [
    "."
   ]
  },
  {
   "cell_type": "markdown",
   "metadata": {},
   "source": []
  },
  {
   "cell_type": "markdown",
   "metadata": {},
   "source": [
    "### Creating Home Page HTML site where all the medicines will be showed. Using python os module to create templates folder and writing the html content into it."
   ]
  },
  {
   "cell_type": "code",
   "execution_count": 15,
   "metadata": {},
   "outputs": [
    {
     "name": "stdout",
     "output_type": "stream",
     "text": [
      "HTML file created successfully.\n"
     ]
    }
   ],
   "source": [
    "# Read the CSV file\n",
    "df = pickle.load(open(\"pickle_files/medDataSet.pkl\",\"rb\"))  \n",
    "\n",
    "# Specifying the column names that contain the medicine names and image URLs\n",
    "name_column = 'Name'\n",
    "url_column = 'image_url'\n",
    "scores = \"score\"\n",
    "mft = \"Manufacturer\"\n",
    "usedFor = \"Uses\"\n",
    "sideEffects = \"Side_effects\"\n",
    "\n",
    "# Extract the medicines names and URLs from the DataFrame\n",
    "medicines = df[[name_column, url_column , scores , mft , usedFor , sideEffects]].to_dict(orient='records')\n",
    "\n",
    "# Creatinh the HTML content with embedded JavaScript\n",
    "html_content = f\"\"\"\n",
    "<!DOCTYPE html>\n",
    "<html lang=\"en\">\n",
    "<head>\n",
    "    <meta charset=\"UTF-8\">\n",
    "    <meta name=\"viewport\" content=\"width=device-width, initial-scale=1.0\">\n",
    "    <title>Medicine Recommendation</title>\n",
    "    <link href=\"https://fonts.googleapis.com/css2?family=Roboto:wght@400;700&display=swap\" rel=\"stylesheet\">\n",
    "    <style>\n",
    "        html {{\n",
    "            font-family: 'Roboto', sans-serif;\n",
    "        }}\n",
    "\n",
    "        .product-container {{\n",
    "            display: flex;\n",
    "            flex-wrap: wrap;\n",
    "        }}\n",
    "\n",
    "        .product-item {{\n",
    "            flex: 1 1 calc(20% - 20px);\n",
    "            box-sizing: border-box;\n",
    "            margin: 10px;\n",
    "            text-align: center;\n",
    "        }}\n",
    "\n",
    "        .product-item img {{\n",
    "            max-width: 200px;\n",
    "            height: 200px;\n",
    "            cursor: pointer; \n",
    "        }}\n",
    "\n",
    "        .product-item h3 {{\n",
    "            margin-top: 5px;\n",
    "        }}\n",
    "\n",
    "        .pagination {{\n",
    "            text-align: center;\n",
    "            margin-top: 20px;\n",
    "        }}\n",
    "\n",
    "        .pagination button {{\n",
    "            margin: 5px;\n",
    "        }}\n",
    "\n",
    "        /* Modal styles */\n",
    "        .modal {{\n",
    "            display: none;\n",
    "            position: fixed;\n",
    "            z-index: 1;\n",
    "            left: 0;\n",
    "            top: 0;\n",
    "            width: 100%;\n",
    "            height: 100%;\n",
    "            overflow: auto;\n",
    "            background-color: rgb(0,0,0);\n",
    "            background-color: rgba(0,0,0,0.4);\n",
    "        }}\n",
    "\n",
    "        .modal-content {{\n",
    "            margin: 15% auto;\n",
    "            padding: 20px;\n",
    "            border: 1px solid #888;\n",
    "            width: 100%;\n",
    "            max-width: 400px;\n",
    "            background-color: white;\n",
    "            display:flex;\n",
    "            flex-direction: column;\n",
    "            align-items: center;\n",
    "        }}\n",
    "\n",
    "        .close {{\n",
    "            color: #aaa;\n",
    "            float: right;\n",
    "            font-size: 28px;\n",
    "            font-weight: bold;\n",
    "            position: absolute;\n",
    "            top: 10px;\n",
    "            right:20px;\n",
    "        }}\n",
    "\n",
    "        .close:hover,\n",
    "        .close:focus {{\n",
    "            color: black;\n",
    "            text-decoration: none;\n",
    "            cursor: pointer;\n",
    "        }}\n",
    "\n",
    "        \n",
    "        nav {{\n",
    "            background-color: #b3b0b0;\n",
    "            color: white;\n",
    "            padding: 10px 0;\n",
    "\n",
    "        }}\n",
    "\n",
    "        nav ul {{\n",
    "            list-style-type: none;\n",
    "            display: flex;\n",
    "            justify-content: center;\n",
    "        }}\n",
    "\n",
    "        nav ul li {{\n",
    "            margin: 0 20px;\n",
    "        }}\n",
    "\n",
    "        nav ul li a {{\n",
    "            color: #000000;\n",
    "            text-decoration: none;\n",
    "            font-size: 18px;\n",
    "        }}\n",
    "\n",
    "        nav ul li a:hover {{\n",
    "            text-decoration: underline;\n",
    "        }}\n",
    "\n",
    "        .centered-heading {{\n",
    "            display: flex;\n",
    "            justify-content: center;\n",
    "            align-items:  center;\n",
    "            height:  100px; \n",
    "        }}\n",
    "\n",
    "        .centered-heading h1 {{\n",
    "            font-size:  2.5em;\n",
    "            text-align: center;\n",
    "        }}\n",
    "\n",
    "\n",
    "\n",
    "    </style>\n",
    "</head>\n",
    "<body>\n",
    "      <nav class=\"navbar\"> \n",
    "        <ul> \n",
    "            <li>\n",
    "                <a href=\"/recommendation\">Get Your Recommendation</a>\n",
    "            </li> \n",
    "\n",
    "            <li>\n",
    "                <a href=\"/contact\">Contact</a>\n",
    "            </li> \n",
    "        </ul> \n",
    "    </nav> \n",
    "\n",
    "    <div class=\"centered-heading\"> <h1>Medicine Recommendation</h1> </div>\n",
    "\n",
    "    <div class=\"centered-heading\"> \n",
    "    <h3>Please consider that the review score is calculated based on overall ratings whereas \n",
    "    3 is the uptmost excellent quality reviewed by customers and 1 means poor quality reviewed by customers, Thanks.\n",
    "    </h3> </div>\n",
    "\n",
    "    <div class=\"product-container\" id=\"productContainer\"></div>\n",
    "    <div class=\"pagination\" id=\"pagination\"></div>\n",
    "\n",
    "\n",
    "\n",
    "    <!-- The Modal -->\n",
    "    <div id=\"myModal\" class=\"modal\">\n",
    "        <div class=\"modal-content\">\n",
    "            <span class=\"close\">&times;</span>\n",
    "            <img id=\"modalImage\" src=\"\" alt=\"Medicine Image\" style=\"width: 200px; height: 200px;\">\n",
    "            <h3 id=\"modalTitle\"></h3>\n",
    "        </div>\n",
    "    </div>\n",
    "\n",
    "    <script>\n",
    "        // Array of medicines names and image URLs\n",
    "        const medicinesHTML = {medicines};\n",
    "\n",
    "        const itemsPerPage = 200;\n",
    "        let currentPage = 1;\n",
    "\n",
    "        const displayProducts = (page) => {{\n",
    "            const container = document.getElementById('productContainer');\n",
    "            container.innerHTML = ''; // Clear the container\n",
    "            const start = (page - 1) * itemsPerPage;\n",
    "            const end = start + itemsPerPage;\n",
    "            const paginatedItems = medicinesHTML.slice(start, end);\n",
    "\n",
    "            paginatedItems.forEach(medIntoDic => {{\n",
    "                const item = document.createElement('div');\n",
    "                item.className = 'product-item';\n",
    "                item.innerHTML = `\n",
    "                    <img src=\"${{medIntoDic['{url_column}']}}\" alt=\"${{medIntoDic['{name_column}']}}\" loading=\"lazy\" \n",
    "                    onclick=\"showModal('${{medIntoDic['{url_column}']}}', '${{medIntoDic['{name_column}']}}')\">\n",
    "\n",
    "                    <h3> Medicine Name :  ${{medIntoDic['{name_column}']}}</h3>\n",
    "                    <h4> Used For : ${{medIntoDic['{usedFor}']}} </h4>\n",
    "                    <h4> Side Effects : ${{medIntoDic['{sideEffects}']}} </h4>\n",
    "                    <h4> Review Scores : ${{medIntoDic['{scores}']}}</h4>\n",
    "                    <h4> Manufacturer : ${{medIntoDic['{mft}']}}</h4>\n",
    "                `;\n",
    "                container.appendChild(item);\n",
    "            }});\n",
    "        }};\n",
    "\n",
    "        const setupPagination = () => {{\n",
    "            const pagination = document.getElementById('pagination');\n",
    "            const totalPages = Math.ceil(medicinesHTML.length / itemsPerPage);\n",
    "            pagination.innerHTML = ''; // Clear pagination\n",
    "\n",
    "            for (let i = 1; i <= totalPages; i++) {{\n",
    "                const button = document.createElement('button');\n",
    "                button.textContent = i;\n",
    "                button.onclick = () => {{\n",
    "                    currentPage = i;\n",
    "                    displayProducts(currentPage);\n",
    "                }};\n",
    "                pagination.appendChild(button);\n",
    "            }}\n",
    "        }};\n",
    "\n",
    "        const showModal = (imgSrc, title) => {{\n",
    "            const modal = document.getElementById(\"myModal\");\n",
    "            const modalImg = document.getElementById(\"modalImage\");\n",
    "            const modalTitle = document.getElementById(\"modalTitle\");\n",
    "            modal.style.display = \"block\";\n",
    "            modalImg.src = imgSrc;\n",
    "            modalTitle.textContent = title;\n",
    "        }};\n",
    "\n",
    "        const closeModal = () => {{\n",
    "            const modal = document.getElementById(\"myModal\");\n",
    "            modal.style.display = \"none\";\n",
    "        }};\n",
    "\n",
    "        // Initialize the gallery\n",
    "        displayProducts(currentPage);\n",
    "        setupPagination();\n",
    "\n",
    "        // Get the <span> element that closes the modal\n",
    "        const span = document.getElementsByClassName(\"close\")[0];\n",
    "        span.onclick = closeModal;\n",
    "\n",
    "        // Close the modal when clicking anywhere outside of the modal content\n",
    "        window.onclick = function(event) {{\n",
    "            const modal = document.getElementById(\"myModal\");\n",
    "            if (event.target == modal) {{\n",
    "                closeModal();\n",
    "            }}\n",
    "        }};\n",
    "    </script>\n",
    "</body>\n",
    "</html>\n",
    "\"\"\"\n",
    "\n",
    "folder_name = 'templates'\n",
    "os.makedirs(folder_name, exist_ok=True)\n",
    "\n",
    "filePath = os.path.join(folder_name,'home.html')\n",
    "\n",
    "# Saving the HTML content to a file\n",
    "with open(filePath, 'w') as file:\n",
    "    file.write(html_content)\n",
    "\n",
    "print('HTML file created successfully.')\n"
   ]
  },
  {
   "cell_type": "code",
   "execution_count": null,
   "metadata": {},
   "outputs": [],
   "source": []
  },
  {
   "cell_type": "markdown",
   "metadata": {},
   "source": [
    "### Creating HTML Contact Page \n",
    "\n",
    "##### Used python os module to create the file "
   ]
  },
  {
   "cell_type": "code",
   "execution_count": 35,
   "metadata": {},
   "outputs": [
    {
     "name": "stdout",
     "output_type": "stream",
     "text": [
      "HTML contact file created successfully.\n"
     ]
    }
   ],
   "source": [
    "html_content = f\"\"\"\n",
    "<!DOCTYPE html>\n",
    "<html lang=\"en\">\n",
    "<head>\n",
    "    <meta charset=\"UTF-8\">\n",
    "    <meta name=\"viewport\" content=\"width=device-width, initial-scale=1.0\">\n",
    "    <link href=\"https://fonts.googleapis.com/css2?family=Roboto:wght@400;700&display=swap\" rel=\"stylesheet\">\n",
    "    <title>Contact Us</title>\n",
    "    <style>\n",
    "\n",
    "        html {{\n",
    "            font-family: 'Roboto', sans-serif;\n",
    "        }}\n",
    "\n",
    "        body {{\n",
    "            margin: 0;\n",
    "            padding: 0;\n",
    "            background-color: #f4f4f4;\n",
    "        }}\n",
    "\n",
    "        nav {{\n",
    "            background-color: #333;\n",
    "            color: white;\n",
    "            padding: 10px 0;\n",
    "        }}\n",
    "\n",
    "        nav ul {{\n",
    "            list-style-type: none;\n",
    "            display: flex;\n",
    "            justify-content: center;\n",
    "        }}\n",
    "\n",
    "        nav ul li {{\n",
    "            margin: 0 20px;\n",
    "        }}\n",
    "\n",
    "        nav ul li a {{\n",
    "            color: white;\n",
    "            text-decoration: none;\n",
    "            font-size: 18px;\n",
    "        }}\n",
    "\n",
    "        nav ul li a:hover {{\n",
    "            text-decoration: underline;\n",
    "        }}\n",
    "\n",
    "        .centered-heading {{\n",
    "            display: flex;\n",
    "            justify-content: center;\n",
    "            align-items: center;\n",
    "            height: 30vh; \n",
    "        }}\n",
    "\n",
    "        .centered-heading h1 {{\n",
    "            font-size: 2.5em;\n",
    "            text-align: center;\n",
    "        }}\n",
    "\n",
    "        .container {{\n",
    "            max-width: 600px;\n",
    "            margin: 20px auto;\n",
    "            padding: 20px;\n",
    "            background-color: white;\n",
    "            border-radius: 5px;\n",
    "            box-shadow: 0 0 10px rgba(0, 0, 0, 0.1);\n",
    "        }}\n",
    "\n",
    "        .container h3 {{\n",
    "            text-align: center;\n",
    "            margin-bottom: 20px;\n",
    "        }}\n",
    "\n",
    "    </style>\n",
    "</head>\n",
    "<body>\n",
    "    <!-- Navbar -->\n",
    "    <nav>\n",
    "        <ul>\n",
    "            <li><a href=\"http://127.0.0.1:5000/\">Home</a></li> \n",
    "            <li><a href=\"/recommendation\">Get Your Recommendation</a></li>\n",
    "        </ul>\n",
    "    </nav>\n",
    "\n",
    "    <!-- Centered Heading -->\n",
    "    <div class=\"centered-heading\">\n",
    "        <h1>Contact Details</h1>\n",
    "    </div>\n",
    "\n",
    "    <!-- Contact Form Container -->\n",
    "    <div class=\"container\">\n",
    "\n",
    "        <h3>Greetings</h3>\n",
    "        <p> I welcome you to my Medicine Recommendation System portfolio project!</p>\n",
    "        <p> My name is Sambhu Yadav and I am delighted to showcase this project.</p>\n",
    "        <p> Thank you for exploring this project. </p>\n",
    "        <p> I am always open to professional connections , feedbacks and suggestions. </p>  \n",
    "        <p> Please reach out to me at \"sambhuy306@gmail.com\"</p>\n",
    "        <p> Very Much Thanks for visiting! Your thoughts and insights are appreciated. </p>\n",
    "    \n",
    "    </div>\n",
    "\n",
    "</body>\n",
    "</html>\n",
    "\n",
    "\"\"\"\n",
    "\n",
    "\n",
    "\n",
    "# Saving the HTML content to a file\n",
    "with open('templates/contact.html', 'w') as file:\n",
    "    file.write(html_content)\n",
    "\n",
    "print('HTML contact file created successfully.')\n"
   ]
  },
  {
   "cell_type": "code",
   "execution_count": null,
   "metadata": {},
   "outputs": [],
   "source": []
  },
  {
   "cell_type": "markdown",
   "metadata": {},
   "source": [
    "### Creating a flask app python file\n",
    "\n",
    "##### Used python os module to create this file\n",
    "\n",
    "In Flask app the core logic lies for displaying the HTML web sites and the recommendation to happen.\n",
    "\n",
    "I have also added the functionality of storing the user inputs into a csv file which is in the app.py the flask python file.\n",
    "\n",
    "The csv file will store the following \"user_input_text , suggested_names , results , timestamp\". <-- Here, suggested_names column will contain the recommendation systems results which the model have showed for every medicine inputs."
   ]
  },
  {
   "cell_type": "code",
   "execution_count": 230,
   "metadata": {},
   "outputs": [
    {
     "name": "stdout",
     "output_type": "stream",
     "text": [
      "Python Flask File created successfully.\n"
     ]
    }
   ],
   "source": [
    "\n",
    "python_file = \"\"\" \n",
    "\n",
    "\n",
    "from flask import Flask , render_template , request , flash\n",
    "import pickle\n",
    "import os\n",
    "import csv\n",
    "import json\n",
    "from datetime import datetime\n",
    "import pytz\n",
    "\n",
    "newMedData12 = pickle.load(open('pickle_files/medDataSet.pkl','rb'))\n",
    "similarity = pickle.load(open('pickle_files/similarityWeightAssign.pkl','rb'))\n",
    "similaritySideEffect = pickle.load(open('pickle_files/similaritySideEffect.pkl','rb'))\n",
    "\n",
    "\n",
    "\n",
    "app = Flask(__name__)\n",
    "\n",
    "# Flash Message\n",
    "app.secret_key = 'message'\n",
    "\n",
    "# Path for csv file \n",
    "csv_folder = 'csv_input_files'\n",
    "if not os.path.exists(csv_folder):\n",
    "    os.makedirs(csv_folder)\n",
    "csv_file_path = os.path.join(csv_folder , \"user_inputs_data.csv\")\n",
    "# Creating CSV file with Two Columns one with name and another with timestamp\n",
    "if not os.path.exists(csv_file_path):\n",
    "    with open(csv_file_path, mode='w', newline='') as file:\n",
    "        writer = csv.writer(file) \n",
    "        writer.writerow(['user_input_text','suggested_names','results','timestamp'])\n",
    "\n",
    "\n",
    "\n",
    "\n",
    "@app.route('/')\n",
    "def index():\n",
    "    return render_template('home.html')\n",
    "\n",
    "\n",
    "@app.route('/recommendation')\n",
    "def recommend_page():\n",
    "    return render_template('recommendation.html')\n",
    "\n",
    "\n",
    "@app.route('/contact')\n",
    "def contact_page():\n",
    "    return render_template('contact.html')\n",
    "\n",
    "\n",
    "@app.route('/recommend_action',methods=['POST'])\n",
    "def recommendation():\n",
    "    try:\n",
    "        medicine = request.form.get('user_input')\n",
    "        medicine = medicine.strip()\n",
    "        medicine_index = newMedData12[newMedData12['Name'] == medicine].index[0]\n",
    "        distance = similarity[medicine_index]\n",
    "        medicine_list = list(enumerate(distance))\n",
    "        sorted_medicine_list = sorted(medicine_list, reverse=True, key=lambda x: x[1])[1:6]\n",
    "\n",
    "        top_medicines = {}\n",
    "        seen = set()\n",
    "        \n",
    "        for i in sorted_medicine_list:\n",
    "            if len(top_medicines) >= 5:\n",
    "                break\n",
    "            \n",
    "            if newMedData12.iloc[i[0]].Name not in seen:\n",
    "                top_medicines[newMedData12.iloc[i[0]].Name] = {\n",
    "                    'image_url': newMedData12.iloc[i[0]][\"image_url\"],\n",
    "                    'usedFor' : newMedData12.iloc[i[0]].Uses,\n",
    "                    'sideEffect' : newMedData12.iloc[i[0]].Side_effects,\n",
    "                    'review_score' : newMedData12.iloc[i[0]].score,\n",
    "                    'mft' : newMedData12.iloc[i[0]].Manufacturer\n",
    "                }\n",
    "            \n",
    "                seen.add(newMedData12.iloc[i[0]].Name)\n",
    "    \n",
    "        sorted_top_medicines = dict(sorted(top_medicines.items(), key=lambda item: item[1]['review_score'], reverse=True))\n",
    "\n",
    "\n",
    "        medicine_names = ', '.join(sorted_top_medicines.keys())\n",
    "        sorted_top_medicines_JSON = json.dumps(sorted_top_medicines)\n",
    "        # Storing user inputs into a csv file with current date and time \n",
    "        timeZone = pytz.timezone('Asia/Kolkata')\n",
    "        timestamp = datetime.now(timeZone).strftime('%d-%m-%Y %H:%M:%S')\n",
    "        with open(csv_file_path,mode=\"a\",newline='') as file:\n",
    "            writer = csv.writer(file)\n",
    "            writer.writerow([medicine , medicine_names , sorted_top_medicines_JSON , timestamp])\n",
    "        \n",
    "\n",
    "\n",
    "        return render_template(\"recommendation.html\",sorted_top_medicines=sorted_top_medicines)\n",
    "    \n",
    "\n",
    "    except Exception as e: \n",
    "        flash(\"No Such Input Found , please retry with avaiable names in the Dataset , thanks ;-)\") \n",
    "\n",
    "    return render_template(\"recommendation.html\", sorted_top_medicines={}) \n",
    "\n",
    "\n",
    "\n",
    "\n",
    "# Side Effect Code ---------------------------------------------------------------------------\n",
    "\n",
    "\n",
    "\n",
    "@app.route('/recommend_sideEffect',methods=['POST'])\n",
    "def recommendationSideEffect():\n",
    "    try:\n",
    "        medicine = request.form.get('side_effect')\n",
    "        medicine = medicine.strip()\n",
    "        medicine_index = newMedData12[newMedData12['Name'] == medicine].index[0]\n",
    "        distance = similaritySideEffect[medicine_index]\n",
    "        medicine_list = list(enumerate(distance))\n",
    "        sorted_medicine_list = sorted(medicine_list, reverse=True, key=lambda x: x[1])[1:6]\n",
    "\n",
    "\n",
    "        \n",
    "        top_medicines = {}\n",
    "        seen = set()\n",
    "        \n",
    "        for i in sorted_medicine_list:\n",
    "            if len(top_medicines) >= 5:\n",
    "                break\n",
    "            \n",
    "            if newMedData12.iloc[i[0]].Name not in seen:\n",
    "                top_medicines[newMedData12.iloc[i[0]].Name] = {\n",
    "                    'image_url': newMedData12.iloc[i[0]][\"image_url\"],\n",
    "                    'usedFor' : newMedData12.iloc[i[0]].Uses,\n",
    "                    'sideEffect' : newMedData12.iloc[i[0]].Side_effects,\n",
    "                    'review_score' : newMedData12.iloc[i[0]].score,\n",
    "                    'mft' : newMedData12.iloc[i[0]].Manufacturer\n",
    "                }\n",
    "            \n",
    "                seen.add(newMedData12.iloc[i[0]].Name)\n",
    "    \n",
    "        sorted_top_medicines_side_effects = dict(sorted(top_medicines.items(), key=lambda item: item[1]['review_score'], reverse=True))\n",
    "\n",
    "        medicine_names = ', '.join(sorted_top_medicines_side_effects.keys())\n",
    "        sorted_top_medicines_JSON = json.dumps(sorted_top_medicines_side_effects)\n",
    "        # Storing user inputs into a csv file with current date and time \n",
    "        timeZone = pytz.timezone('Asia/Kolkata')\n",
    "        timestamp = datetime.now(timeZone).strftime('%d-%m-%Y %H:%M:%S')\n",
    "        with open(csv_file_path,mode=\"a\",newline='') as file:\n",
    "            writer = csv.writer(file)\n",
    "            writer.writerow([medicine , medicine_names , sorted_top_medicines_JSON , timestamp])\n",
    "\n",
    "\n",
    "\n",
    "        return render_template(\"recommendation.html\",sorted_top_medicines_side_effects=sorted_top_medicines_side_effects)\n",
    "    \n",
    "\n",
    "    except Exception as e: \n",
    "        flash(\"No Such Input Found , please retry with avaiable names in the Dataset , thanks ;-)\") \n",
    "\n",
    "    return render_template(\"recommendation.html\", sorted_top_medicines_side_effects={}) \n",
    "\n",
    "\n",
    "\n",
    "\n",
    "if __name__ == '__main__':\n",
    "    app.run(debug=True)\n",
    "\n",
    "\n",
    "\"\"\"\n",
    "\n",
    "\n",
    "# Saving the HTML content to a file\n",
    "with open('app.py', 'w') as file:\n",
    "    file.write(python_file)\n",
    "\n",
    "print('Python Flask File created successfully.')\n"
   ]
  },
  {
   "cell_type": "code",
   "execution_count": null,
   "metadata": {},
   "outputs": [],
   "source": []
  },
  {
   "cell_type": "markdown",
   "metadata": {},
   "source": [
    "### Created HTML Recommendation Page\n",
    "##### Used python os module to make the html file."
   ]
  },
  {
   "cell_type": "code",
   "execution_count": 231,
   "metadata": {},
   "outputs": [
    {
     "name": "stdout",
     "output_type": "stream",
     "text": [
      "HTML File created successfully.\n"
     ]
    }
   ],
   "source": [
    "recommendation_html = \"\"\"\n",
    "\n",
    "\n",
    "\n",
    "<!DOCTYPE html>\n",
    "<html lang=\"en\">\n",
    "<head>\n",
    "    <meta charset=\"UTF-8\">\n",
    "    <meta name=\"viewport\" content=\"width=device-width, initial-scale=1.0\">\n",
    "    <title>Product Recommendation</title>\n",
    "    <link href=\"https://fonts.googleapis.com/css2?family=Roboto:wght@400;700&display=swap\" rel=\"stylesheet\" rel=\"stylesheet\">\n",
    "    <style>\n",
    "\n",
    "        html{\n",
    "            font-family: 'Robto', sans-serif;\n",
    "        }\n",
    "\n",
    "        body { \n",
    "            margin: 0;\n",
    "            padding: 0;\n",
    "            background-color: #f4f4f4;\n",
    "        }\n",
    "\n",
    "        .container {\n",
    "            background-color: white;\n",
    "            padding: 20px;\n",
    "            border-radius: 8px;\n",
    "            box-shadow: 0 0 10px rgba(0, 0, 0, 0.1);\n",
    "            text-align: center;\n",
    "        }\n",
    "\n",
    "        .sideEffect_container{\n",
    "            background-color: white;\n",
    "            padding: 50px;\n",
    "            text-align: center;\n",
    "        }\n",
    "        \n",
    "\n",
    "        .input-group {\n",
    "            margin-bottom: 20px;\n",
    "        }\n",
    "        .input-group label {\n",
    "            display: block;\n",
    "            margin-bottom: 5px;\n",
    "        }\n",
    "        .input-group input {\n",
    "            padding: 10px;\n",
    "            width: 900px;\n",
    "            box-sizing: border-box;\n",
    "        }\n",
    "\n",
    "\n",
    "\n",
    "        /* Input Side Effect CSS Code */\n",
    "        .input-group-sideEffect {\n",
    "            margin-bottom: 20px;\n",
    "        }\n",
    "        .input-group-sideEffect label {\n",
    "            display: block;\n",
    "            margin-bottom: 5px;\n",
    "        }\n",
    "        .input-group-sideEffect input {\n",
    "            padding: 10px;\n",
    "            width: 900px;\n",
    "            box-sizing: border-box;\n",
    "        }\n",
    "\n",
    "\n",
    "        .product-container{\n",
    "            display: flex;\n",
    "            flex-wrap: wrap;\n",
    "            justify-content: center;\n",
    "            \n",
    "        }\n",
    "\n",
    "        .product-container-sideEffect{\n",
    "            display: flex;\n",
    "            flex-wrap: wrap;\n",
    "            justify-content: center;\n",
    "        }\n",
    "\n",
    "        .product-item{\n",
    "            margin:10px;\n",
    "            padding:10px;\n",
    "            border: 1px solid #ddd;\n",
    "            border-radius: 5px;\n",
    "            text-align: center;\n",
    "            cursor: pointer; \n",
    "        }\n",
    "\n",
    "        .product-item-sideEffect{\n",
    "            margin:10px;\n",
    "            padding:10px;\n",
    "            border: 1px solid #ddd;\n",
    "            border-radius: 5px;\n",
    "            text-align: center;\n",
    "            cursor: pointer; \n",
    "        }\n",
    "\n",
    "\n",
    "        nav {\n",
    "            background-color: #b3b0b0;\n",
    "            color: white;\n",
    "            padding: 10px 0;\n",
    "\n",
    "        }\n",
    "\n",
    "        nav ul {\n",
    "            list-style-type: none;\n",
    "            display: flex;\n",
    "            justify-content: center;\n",
    "        }\n",
    "\n",
    "        nav ul li {\n",
    "            margin: 0 20px;\n",
    "        }\n",
    "\n",
    "        nav ul li a {\n",
    "            color: #000000;\n",
    "            text-decoration: none;\n",
    "            font-size: 18px;\n",
    "        }\n",
    "\n",
    "        nav ul li a:hover {\n",
    "            text-decoration: underline;\n",
    "        }\n",
    "\n",
    "        .centered-heading{\n",
    "            display: flex;\n",
    "            justify-content: center;\n",
    "            align-items:  center;\n",
    "            height:  100px; \n",
    "        }\n",
    "\n",
    "        .centered-heading h1 {\n",
    "            font-size:  2.5em;\n",
    "            text-align: center;\n",
    "        }\n",
    "\n",
    "        .flash{\n",
    "            color: red;\n",
    "            text-align: center;\n",
    "            margin: 20px 0;\n",
    "        }\n",
    "   \n",
    "    </style>\n",
    "</head>\n",
    "\n",
    "\n",
    "<body>\n",
    "\n",
    "    <nav class=\"navbar\"> \n",
    "        <ul> \n",
    "            <li>\n",
    "                <a href=\"http://127.0.0.1:5000/\">Home</a>\n",
    "            </li> \n",
    "\n",
    "            <li>\n",
    "                <a href=\"/contact\">Contact</a>\n",
    "            </li> \n",
    "        </ul> \n",
    "    </nav> \n",
    "\n",
    "\n",
    "\n",
    "    <div class=\"container\">\n",
    "\n",
    "        <div class=\"centered-heading\"> <h1>Medicine Recommendation</h1> </div>\n",
    "\n",
    "        <form action=\"/recommend_action\" id=\"recommendationForm\" method=\"POST\">\n",
    "            <div class=\"input-group\">\n",
    "                <label for=\"product_name\">Enter Medicine Name:</label>\n",
    "                <input name=\"user_input\" placeholder=\"Enter Medicines Here\" type=\"text\" id=\"product_name\" required>\n",
    "            </div>\n",
    "            <button type=\"submit\">Get Recommendation</button>\n",
    "        </form>\n",
    "\n",
    "\n",
    "\n",
    "    <!-- Flash Messages --> \n",
    "    {% with messages = get_flashed_messages() %} \n",
    "    {% if messages %} \n",
    "    <div class=\"flash\"> \n",
    "        {% for message in messages %} \n",
    "            <p>{{ message }}</p> \n",
    "        {% endfor %} \n",
    "    </div> \n",
    "\n",
    "    {% endif %} \n",
    "    {% endwith %}\n",
    "\n",
    "\n",
    "\n",
    "\n",
    "\n",
    "    {% if sorted_top_medicines %}\n",
    "    \n",
    "    <div class=\"product-container\" id=\"productContainer\">\n",
    "        \n",
    "    {% for name, details  in sorted_top_medicines.items(): %}\n",
    "       <div class=\"product-item\">\n",
    "            <img id=\"result_img\" height=\"200px\" width=\"200px\" src=\"{{ details['image_url'] }}\" alt=\"{{ name }}\" loading=\"lazy\"> \n",
    "            <h3> Medicine Name : {{ name }} </h3>\n",
    "            <h4> Medicine Used For : {{ details[\"usedFor\"] }} </h4>\n",
    "            <h4> Medicine Side Effects : {{ details[\"sideEffect\"] }} </h4>\n",
    "            <h4> Review Scores : {{ details[\"review_score\"] }} </h4>\n",
    "            <h4> Manufacturer : {{ details[\"mft\"] }} </h4>\n",
    "       </div>\n",
    "    {% endfor %}\n",
    "\n",
    "    </div>\n",
    "\n",
    "    {% endif %}\n",
    "\n",
    "\n",
    "\n",
    "\n",
    "\n",
    "<!-- ------------------------------------------------------------------------------------------------ -->\n",
    "<!-- ------------------------------------------------------------------------------------------------ -->\n",
    "<!-- CODE FOR SIDE EFFECT -->\n",
    "<!-- ------------------------------------------------------------------------------------------------ -->\n",
    "<!-- ------------------------------------------------------------------------------------------------ -->\n",
    "\n",
    "\n",
    "\n",
    "\n",
    "\n",
    "    <div class=\"sideEffect_container\">\n",
    "\n",
    "        <div class=\"centered-heading\"> <h1>Recommendation Based On Uses's And Side Effects</h1> </div>\n",
    "\n",
    "        <form action=\"/recommend_sideEffect\" id=\"recommendationForm\" method=\"POST\">\n",
    "            <div class=\"input-group-sideEffect\">\n",
    "                <label for=\"product_name_sideEffect\">Enter Medicine Name:</label>\n",
    "                <input name=\"side_effect\" placeholder=\"Enter Medicines Here\" type=\"text\" id=\"product_name_sideEffect\" required>\n",
    "            </div>\n",
    "            <button type=\"submit\">Get Recommendation</button>\n",
    "        </form>\n",
    "        \n",
    "        \n",
    "        \n",
    "        \n",
    "        {% with messages = get_flashed_messages() %} \n",
    "        {% if messages %} \n",
    "        <div class=\"flash\"> \n",
    "            {% for message in messages %} \n",
    "            <p>{{ message }}</p> \n",
    "            {% endfor %} \n",
    "        </div> \n",
    " \n",
    "        {% endif %} \n",
    "        {% endwith %}\n",
    " \n",
    " \n",
    " \n",
    " \n",
    "        {% if sorted_top_medicines_side_effects %}\n",
    "     \n",
    "        <div class=\"product-container-sideEffect\" id=\"productContainerSideEffect\">\n",
    "         \n",
    "        {% for name, details  in sorted_top_medicines_side_effects.items(): %}\n",
    "            <div class=\"product-item-sideEffect\">\n",
    "                <img id=\"result_img\" height=\"200px\" width=\"200px\" src=\"{{ details['image_url'] }}\" alt=\"{{ name }}\" loading=\"lazy\"> \n",
    "                <h3> Medicine Name : {{ name }} </h3>\n",
    "                <h4> Medicine Used For : {{ details[\"usedFor\"] }} </h4>\n",
    "                <h4> Medicine Side Effects : {{ details[\"sideEffect\"] }} </h4>\n",
    "                <h4> Review Scores : {{ details[\"review_score\"] }} </h4>\n",
    "                <h4> Manufacturer : {{ details[\"mft\"] }} </h4>\n",
    "            </div>\n",
    "        {% endfor %}\n",
    " \n",
    "    </div>\n",
    " \n",
    "        {% endif %}\n",
    "\n",
    "\n",
    "\n",
    "    \n",
    "</body>\n",
    "</html>\n",
    "\n",
    "\n",
    "\n",
    "\"\"\"\n",
    "\n",
    "\n",
    "# Saving the HTML content to a file\n",
    "with open('templates/recommendation.html', 'w') as file:\n",
    "    file.write(html_content)\n",
    "\n",
    "print('HTML recommendation file created successfully.')\n",
    "\n"
   ]
  },
  {
   "cell_type": "code",
   "execution_count": null,
   "metadata": {},
   "outputs": [],
   "source": []
  },
  {
   "cell_type": "code",
   "execution_count": null,
   "metadata": {},
   "outputs": [],
   "source": []
  },
  {
   "cell_type": "code",
   "execution_count": null,
   "metadata": {},
   "outputs": [],
   "source": []
  }
 ],
 "metadata": {
  "kernelspec": {
   "display_name": "base",
   "language": "python",
   "name": "python3"
  },
  "language_info": {
   "codemirror_mode": {
    "name": "ipython",
    "version": 3
   },
   "file_extension": ".py",
   "mimetype": "text/x-python",
   "name": "python",
   "nbconvert_exporter": "python",
   "pygments_lexer": "ipython3",
   "version": "3.11.7"
  }
 },
 "nbformat": 4,
 "nbformat_minor": 2
}
